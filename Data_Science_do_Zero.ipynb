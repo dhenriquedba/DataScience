{
  "nbformat": 4,
  "nbformat_minor": 0,
  "metadata": {
    "colab": {
      "name": "Data-Science-do-Zero.ipynb",
      "provenance": [],
      "toc_visible": true,
      "authorship_tag": "ABX9TyPko1RplF4cRvEF0D8jTKwp",
      "include_colab_link": true
    },
    "kernelspec": {
      "name": "python3",
      "display_name": "Python 3"
    }
  },
  "cells": [
    {
      "cell_type": "markdown",
      "metadata": {
        "id": "view-in-github",
        "colab_type": "text"
      },
      "source": [
        "<a href=\"https://colab.research.google.com/github/dhenriquedba/DataScience/blob/master/Data_Science_do_Zero.ipynb\" target=\"_parent\"><img src=\"https://colab.research.google.com/assets/colab-badge.svg\" alt=\"Open In Colab\"/></a>"
      ]
    },
    {
      "cell_type": "markdown",
      "metadata": {
        "id": "WSiFjhhhiP-p"
      },
      "source": [
        "#Capítulo 1 - Introdução\n",
        "## Encontrando conectores-chave\n",
        "Exibe lista de usuários, cada um representado por um id (numerico) e um name para cada usuário:"
      ]
    },
    {
      "cell_type": "code",
      "metadata": {
        "colab": {
          "base_uri": "https://localhost:8080/"
        },
        "id": "SMZHZMljp8Ug",
        "outputId": "f6e5d03e-7c3b-4ac7-dcbe-4744df0c0794"
      },
      "source": [
        "pip install python2"
      ],
      "execution_count": 1,
      "outputs": [
        {
          "output_type": "stream",
          "text": [
            "Collecting python2\n",
            "  Downloading https://files.pythonhosted.org/packages/7d/b5/fa7609a6ae251044c5751b14caae6bc29c129956ad251afd2d9cfcf7be6e/python2-1.2.tar.gz\n",
            "Building wheels for collected packages: python2\n",
            "  Building wheel for python2 (setup.py) ... \u001b[?25l\u001b[?25hdone\n",
            "  Created wheel for python2: filename=python2-1.2-cp36-none-any.whl size=14505 sha256=2fc6681edfa4ee564e937ec0d3704e30abb1f4072c51b8377b6f644617ec1d6d\n",
            "  Stored in directory: /root/.cache/pip/wheels/d1/6a/52/2ea03062735c314798c8c5ac3da63271888638d2f4fed6d4bd\n",
            "Successfully built python2\n",
            "Installing collected packages: python2\n",
            "Successfully installed python2-1.2\n"
          ],
          "name": "stdout"
        }
      ]
    },
    {
      "cell_type": "code",
      "metadata": {
        "colab": {
          "base_uri": "https://localhost:8080/"
        },
        "id": "xP_RUn-jiOHa",
        "outputId": "e069ee0a-eade-4d5a-ade3-4bc4a72417c8"
      },
      "source": [
        "users = [\n",
        "         {\"id\": 0, \"name\": \"Hero\"},\n",
        "         {\"id\": 1, \"name\": \"Dunn\"},\n",
        "         {\"id\": 2, \"name\": \"Sue\"},\n",
        "         {\"id\": 3, \"name\": \"Chi\"},\n",
        "         {\"id\": 4, \"name\": \"Thor\"},\n",
        "         {\"id\": 5, \"name\": \"Clive\"},\n",
        "         {\"id\": 6, \"name\": \"Hicks\"},\n",
        "         {\"id\": 7, \"name\": \"Devin\"},\n",
        "         {\"id\": 8, \"name\": \"Kate\"},\n",
        "         {\"id\": 9, \"name\": \"Klein\"}\n",
        "]\n",
        "users"
      ],
      "execution_count": 2,
      "outputs": [
        {
          "output_type": "execute_result",
          "data": {
            "text/plain": [
              "[{'id': 0, 'name': 'Hero'},\n",
              " {'id': 1, 'name': 'Dunn'},\n",
              " {'id': 2, 'name': 'Sue'},\n",
              " {'id': 3, 'name': 'Chi'},\n",
              " {'id': 4, 'name': 'Thor'},\n",
              " {'id': 5, 'name': 'Clive'},\n",
              " {'id': 6, 'name': 'Hicks'},\n",
              " {'id': 7, 'name': 'Devin'},\n",
              " {'id': 8, 'name': 'Kate'},\n",
              " {'id': 9, 'name': 'Klein'}]"
            ]
          },
          "metadata": {
            "tags": []
          },
          "execution_count": 2
        }
      ]
    },
    {
      "cell_type": "markdown",
      "metadata": {
        "id": "ZkqQWoncjLVp"
      },
      "source": [
        "Lista de dados \"amigáveis\", representados por uma lista de pares de IDs. Significa que o id 0 (Hero) e o ID 1 (Dunn) são amigos\n"
      ]
    },
    {
      "cell_type": "code",
      "metadata": {
        "colab": {
          "base_uri": "https://localhost:8080/"
        },
        "id": "t0-PY0G4juX_",
        "outputId": "c03b48e2-96d8-4024-eeec-4e4e4c89ddbc"
      },
      "source": [
        "friendships = [\n",
        "               (0, 1), (0, 2), (1, 2), (1, 3), (2, 3), (3, 4),\n",
        "               (4, 5), (5, 6), (5, 7), (6, 8), (7, 8), (8, 9)\n",
        "]\n",
        "friendships"
      ],
      "execution_count": 3,
      "outputs": [
        {
          "output_type": "execute_result",
          "data": {
            "text/plain": [
              "[(0, 1),\n",
              " (0, 2),\n",
              " (1, 2),\n",
              " (1, 3),\n",
              " (2, 3),\n",
              " (3, 4),\n",
              " (4, 5),\n",
              " (5, 6),\n",
              " (5, 7),\n",
              " (6, 8),\n",
              " (7, 8),\n",
              " (8, 9)]"
            ]
          },
          "metadata": {
            "tags": []
          },
          "execution_count": 3
        }
      ]
    },
    {
      "cell_type": "code",
      "metadata": {
        "id": "IIdB-pGtksJY"
      },
      "source": [
        "for user in users:\n",
        "  user[\"friends\"] = []"
      ],
      "execution_count": 4,
      "outputs": []
    },
    {
      "cell_type": "code",
      "metadata": {
        "id": "Ax85gGdYlH60"
      },
      "source": [
        "for i, j in friendships:\n",
        "  #isso funciona porque users[i] é o usuário cujo id é [i]\n",
        "  users[i][\"friends\"].append(users[j]) #adiciona o i como um amigo de j\n",
        "  users[j][\"friends\"].append(users[i]) #adiciona o j como um amigo de i"
      ],
      "execution_count": 5,
      "outputs": []
    },
    {
      "cell_type": "code",
      "metadata": {
        "id": "U9OffyEymLRh"
      },
      "source": [
        "def number_of_friends(user):\n",
        "  #Quantos amigos o usuário tem?\n",
        "  return len(user[\"friends\"]) #tamanho da lista friends"
      ],
      "execution_count": 6,
      "outputs": []
    },
    {
      "cell_type": "code",
      "metadata": {
        "id": "cSMNkC-wnGq6"
      },
      "source": [
        "total_connections = sum(number_of_friends(user) for user in users)"
      ],
      "execution_count": 7,
      "outputs": []
    },
    {
      "cell_type": "code",
      "metadata": {
        "id": "M7xBSQTsnWYs"
      },
      "source": [
        "from __future__ import division\n",
        "num_users = len(users)\n",
        "avg_connections = total_connections / num_users"
      ],
      "execution_count": 8,
      "outputs": []
    },
    {
      "cell_type": "code",
      "metadata": {
        "colab": {
          "base_uri": "https://localhost:8080/"
        },
        "id": "3DkGL1NYnpD7",
        "outputId": "8400712c-ce6f-443c-e34b-686a66208749"
      },
      "source": [
        "#cria uma lista (user_id, number_of_friends)\n",
        "num_friends_by_id = [\n",
        "                     (user[\"id\"], number_of_friends(user))\n",
        "                     for user in users\n",
        "]\n",
        "num_friends_by_id"
      ],
      "execution_count": 9,
      "outputs": [
        {
          "output_type": "execute_result",
          "data": {
            "text/plain": [
              "[(0, 2),\n",
              " (1, 3),\n",
              " (2, 3),\n",
              " (3, 3),\n",
              " (4, 2),\n",
              " (5, 3),\n",
              " (6, 2),\n",
              " (7, 2),\n",
              " (8, 3),\n",
              " (9, 1)]"
            ]
          },
          "metadata": {
            "tags": []
          },
          "execution_count": 9
        }
      ]
    },
    {
      "cell_type": "code",
      "metadata": {
        "colab": {
          "base_uri": "https://localhost:8080/"
        },
        "id": "jGiLXeLIojBd",
        "outputId": "b6f4b45c-fb75-40f3-b2e3-3ac9891703bd"
      },
      "source": [
        "sorted(num_friends_by_id,\n",
        "      #key=lambda (user_id, num_friends): num_friends, o livro passa essa linha mas está retornando erro de sintaxe\n",
        "      reverse=True)"
      ],
      "execution_count": 10,
      "outputs": [
        {
          "output_type": "execute_result",
          "data": {
            "text/plain": [
              "[(9, 1),\n",
              " (8, 3),\n",
              " (7, 2),\n",
              " (6, 2),\n",
              " (5, 3),\n",
              " (4, 2),\n",
              " (3, 3),\n",
              " (2, 3),\n",
              " (1, 3),\n",
              " (0, 2)]"
            ]
          },
          "metadata": {
            "tags": []
          },
          "execution_count": 10
        }
      ]
    },
    {
      "cell_type": "code",
      "metadata": {
        "id": "uYGpyYp1szUM"
      },
      "source": [
        "def friends_of_friend_ids_bad(user):\n",
        "  # \"foaf\" é abreviação de \"friend of a friend\"\n",
        "  return [foaf[\"id\"]\n",
        "          for friend in user[\"friends\"]\n",
        "          for foaf in friend[friends]]"
      ],
      "execution_count": 11,
      "outputs": []
    },
    {
      "cell_type": "code",
      "metadata": {
        "colab": {
          "base_uri": "https://localhost:8080/"
        },
        "id": "Q5bRyzirt0h5",
        "outputId": "6ed4ba6a-7b1e-4127-ca0c-dc4bf3a2d4bb"
      },
      "source": [
        "users[0]"
      ],
      "execution_count": 12,
      "outputs": [
        {
          "output_type": "execute_result",
          "data": {
            "text/plain": [
              "{'friends': [{'friends': [{...},\n",
              "    {'friends': [{...},\n",
              "      {...},\n",
              "      {'friends': [{...},\n",
              "        {...},\n",
              "        {'friends': [{...},\n",
              "          {'friends': [{...},\n",
              "            {'friends': [{...},\n",
              "              {'friends': [{...},\n",
              "                {'friends': [{...}, {...}], 'id': 7, 'name': 'Devin'},\n",
              "                {'friends': [{...}], 'id': 9, 'name': 'Klein'}],\n",
              "               'id': 8,\n",
              "               'name': 'Kate'}],\n",
              "             'id': 6,\n",
              "             'name': 'Hicks'},\n",
              "            {'friends': [{...},\n",
              "              {'friends': [{'friends': [{...}, {...}],\n",
              "                 'id': 6,\n",
              "                 'name': 'Hicks'},\n",
              "                {...},\n",
              "                {'friends': [{...}], 'id': 9, 'name': 'Klein'}],\n",
              "               'id': 8,\n",
              "               'name': 'Kate'}],\n",
              "             'id': 7,\n",
              "             'name': 'Devin'}],\n",
              "           'id': 5,\n",
              "           'name': 'Clive'}],\n",
              "         'id': 4,\n",
              "         'name': 'Thor'}],\n",
              "       'id': 3,\n",
              "       'name': 'Chi'}],\n",
              "     'id': 2,\n",
              "     'name': 'Sue'},\n",
              "    {'friends': [{...},\n",
              "      {'friends': [{...}, {...}, {...}], 'id': 2, 'name': 'Sue'},\n",
              "      {'friends': [{...},\n",
              "        {'friends': [{...},\n",
              "          {'friends': [{...},\n",
              "            {'friends': [{...},\n",
              "              {'friends': [{...}, {...}], 'id': 7, 'name': 'Devin'},\n",
              "              {'friends': [{...}], 'id': 9, 'name': 'Klein'}],\n",
              "             'id': 8,\n",
              "             'name': 'Kate'}],\n",
              "           'id': 6,\n",
              "           'name': 'Hicks'},\n",
              "          {'friends': [{...},\n",
              "            {'friends': [{'friends': [{...}, {...}], 'id': 6, 'name': 'Hicks'},\n",
              "              {...},\n",
              "              {'friends': [{...}], 'id': 9, 'name': 'Klein'}],\n",
              "             'id': 8,\n",
              "             'name': 'Kate'}],\n",
              "           'id': 7,\n",
              "           'name': 'Devin'}],\n",
              "         'id': 5,\n",
              "         'name': 'Clive'}],\n",
              "       'id': 4,\n",
              "       'name': 'Thor'}],\n",
              "     'id': 3,\n",
              "     'name': 'Chi'}],\n",
              "   'id': 1,\n",
              "   'name': 'Dunn'},\n",
              "  {'friends': [{...},\n",
              "    {'friends': [{...},\n",
              "      {...},\n",
              "      {'friends': [{...},\n",
              "        {...},\n",
              "        {'friends': [{...},\n",
              "          {'friends': [{...},\n",
              "            {'friends': [{...},\n",
              "              {'friends': [{...},\n",
              "                {'friends': [{...}, {...}], 'id': 7, 'name': 'Devin'},\n",
              "                {'friends': [{...}], 'id': 9, 'name': 'Klein'}],\n",
              "               'id': 8,\n",
              "               'name': 'Kate'}],\n",
              "             'id': 6,\n",
              "             'name': 'Hicks'},\n",
              "            {'friends': [{...},\n",
              "              {'friends': [{'friends': [{...}, {...}],\n",
              "                 'id': 6,\n",
              "                 'name': 'Hicks'},\n",
              "                {...},\n",
              "                {'friends': [{...}], 'id': 9, 'name': 'Klein'}],\n",
              "               'id': 8,\n",
              "               'name': 'Kate'}],\n",
              "             'id': 7,\n",
              "             'name': 'Devin'}],\n",
              "           'id': 5,\n",
              "           'name': 'Clive'}],\n",
              "         'id': 4,\n",
              "         'name': 'Thor'}],\n",
              "       'id': 3,\n",
              "       'name': 'Chi'}],\n",
              "     'id': 1,\n",
              "     'name': 'Dunn'},\n",
              "    {'friends': [{'friends': [{...}, {...}, {...}], 'id': 1, 'name': 'Dunn'},\n",
              "      {...},\n",
              "      {'friends': [{...},\n",
              "        {'friends': [{...},\n",
              "          {'friends': [{...},\n",
              "            {'friends': [{...},\n",
              "              {'friends': [{...}, {...}], 'id': 7, 'name': 'Devin'},\n",
              "              {'friends': [{...}], 'id': 9, 'name': 'Klein'}],\n",
              "             'id': 8,\n",
              "             'name': 'Kate'}],\n",
              "           'id': 6,\n",
              "           'name': 'Hicks'},\n",
              "          {'friends': [{...},\n",
              "            {'friends': [{'friends': [{...}, {...}], 'id': 6, 'name': 'Hicks'},\n",
              "              {...},\n",
              "              {'friends': [{...}], 'id': 9, 'name': 'Klein'}],\n",
              "             'id': 8,\n",
              "             'name': 'Kate'}],\n",
              "           'id': 7,\n",
              "           'name': 'Devin'}],\n",
              "         'id': 5,\n",
              "         'name': 'Clive'}],\n",
              "       'id': 4,\n",
              "       'name': 'Thor'}],\n",
              "     'id': 3,\n",
              "     'name': 'Chi'}],\n",
              "   'id': 2,\n",
              "   'name': 'Sue'}],\n",
              " 'id': 0,\n",
              " 'name': 'Hero'}"
            ]
          },
          "metadata": {
            "tags": []
          },
          "execution_count": 12
        }
      ]
    },
    {
      "cell_type": "code",
      "metadata": {
        "colab": {
          "base_uri": "https://localhost:8080/"
        },
        "id": "uQpd-p0wuUxu",
        "outputId": "ebc76fcb-4110-4c47-b681-79fa0747f4b0"
      },
      "source": [
        "[friend[\"id\"] for friend in users[0][\"friends\"]]\n",
        "[friend[\"id\"] for friend in users[1][\"friends\"]]\n",
        "[friend[\"id\"] for friend in users[2][\"friends\"]]"
      ],
      "execution_count": 13,
      "outputs": [
        {
          "output_type": "execute_result",
          "data": {
            "text/plain": [
              "[0, 1, 3]"
            ]
          },
          "metadata": {
            "tags": []
          },
          "execution_count": 13
        }
      ]
    },
    {
      "cell_type": "code",
      "metadata": {
        "id": "1nyjMpk9wzu6"
      },
      "source": [
        "from collections import Counter"
      ],
      "execution_count": 14,
      "outputs": []
    },
    {
      "cell_type": "code",
      "metadata": {
        "id": "947G5st2w4VU"
      },
      "source": [
        "def not_the_same(user, other_user):\n",
        "  return user[\"id\"] != other_user[\"id\"]"
      ],
      "execution_count": 15,
      "outputs": []
    },
    {
      "cell_type": "code",
      "metadata": {
        "id": "Nk27rI5GxJ-O"
      },
      "source": [
        "def not_friends(user, other_user):\n",
        "  return all(not_the_same(friend, other_user)\n",
        "        for friend in user[\"friends\"])"
      ],
      "execution_count": 16,
      "outputs": []
    },
    {
      "cell_type": "code",
      "metadata": {
        "id": "WP7E6DxNxzyc"
      },
      "source": [
        "def friends_of_friend_ids(user):\n",
        "  return Counter(foaf[\"id\"]\n",
        "                 for friend in user[\"friends\"]\n",
        "                 for foaf in friend[\"friends\"]\n",
        "                 if not_the_same(user, foaf)\n",
        "                 and not_friends(user, foaf))"
      ],
      "execution_count": 17,
      "outputs": []
    },
    {
      "cell_type": "code",
      "metadata": {
        "colab": {
          "base_uri": "https://localhost:8080/"
        },
        "id": "uiqBTEVMyUNl",
        "outputId": "66bedda3-71ca-4ce0-c75e-9e06650e1314"
      },
      "source": [
        "friends_of_friend_ids(users[3])"
      ],
      "execution_count": 18,
      "outputs": [
        {
          "output_type": "execute_result",
          "data": {
            "text/plain": [
              "Counter({0: 2, 5: 1})"
            ]
          },
          "metadata": {
            "tags": []
          },
          "execution_count": 18
        }
      ]
    },
    {
      "cell_type": "code",
      "metadata": {
        "id": "Bd8aTbZyyq82"
      },
      "source": [
        "interests =  [\n",
        "              (0, \"Hadoop\"), (0, \"Big Data\"), (0, \"HBase\"), (0, \"Java\"),\n",
        "              (0, \"Spark\"), (0, \"Storm\"), (0, \"Cassandra\"),\n",
        "              (1, \"NoSQL\"), (1, \"MongoDB\"), (1, \"Cassandra\"), (1, \"HBase\"),\n",
        "              (1, \"Postgres\"), (2, \"Python\"), (2, \"scikit-learn\"), (2, \"scipy\"),\n",
        "              (2, \"numoy\"), (2, \"statsmodels\"), (2, \"pandas\"), (3, \"R\"), (3, \"Python\"),\n",
        "              (3, \"statistics\"), (3, \"regression\"), (3, \"probability\"),\n",
        "              (4, \"machine learning\"), (4, \"regression\"), (4, \"decision trees\"),\n",
        "              (4, \"libsvm\"), (5, \"Python\"), (5, \"R\"), (5, \"Java\"), (5, \"C++\"),\n",
        "              (5, \"Haskell\"), (5, \"programming languages\"), (6, \"statistics\"),\n",
        "              (6, \"probability\"), (6, \"mathematics\"), (6, \"theory\"),\n",
        "              (7, \"machine learning\"), (7, \"scikit-learn\"), (7, \"Mahout\"),\n",
        "              (7, \"neural networks\"), (8, \"neural networks\"), (8, \"deep learning\"),\n",
        "              (8, \"Big Data\"), (8, \"artificial inteligence\"), (9, \"Hadoop\"),\n",
        "              (9, \"Java\"), (9, \"MapReduce\"), (9, \"Big Data\")\n",
        "]"
      ],
      "execution_count": 19,
      "outputs": []
    },
    {
      "cell_type": "code",
      "metadata": {
        "id": "BNteHAB85FEl"
      },
      "source": [
        "def data_scientists_who_like(target_interest):\n",
        "  return [user_id\n",
        "          for user_id, user_interest in interests\n",
        "          if user_interest == target_interest]"
      ],
      "execution_count": 20,
      "outputs": []
    },
    {
      "cell_type": "code",
      "metadata": {
        "colab": {
          "base_uri": "https://localhost:8080/"
        },
        "id": "8VewtQ2V5uV9",
        "outputId": "4cd97f10-fc58-4056-a0ac-0f69fd8cd7d6"
      },
      "source": [
        "#A lista funciona, mas a lista de interesses inteira é examinada a cada busca. \n",
        "data_scientists_who_like(\"machine learning\")"
      ],
      "execution_count": 21,
      "outputs": [
        {
          "output_type": "execute_result",
          "data": {
            "text/plain": [
              "[4, 7]"
            ]
          },
          "metadata": {
            "tags": []
          },
          "execution_count": 21
        }
      ]
    },
    {
      "cell_type": "code",
      "metadata": {
        "id": "3WxRhHAe6Ezo"
      },
      "source": [
        "from collections import defaultdict"
      ],
      "execution_count": 22,
      "outputs": []
    },
    {
      "cell_type": "code",
      "metadata": {
        "id": "C5vpz1ca6PH6"
      },
      "source": [
        "#as chaves são interesses, os valores são listas de user_ids com interests\n",
        "user_ids_by_interest = defaultdict(list)"
      ],
      "execution_count": 23,
      "outputs": []
    },
    {
      "cell_type": "code",
      "metadata": {
        "id": "haIEknz56wWA"
      },
      "source": [
        "for user_id, interest in interests:\n",
        "  user_ids_by_interest[interest].append(user_id)"
      ],
      "execution_count": 24,
      "outputs": []
    },
    {
      "cell_type": "code",
      "metadata": {
        "id": "1taa-WPh7I8K"
      },
      "source": [
        "#as chaves são user_ids, os valores são as listas ded interests para aquele user_id\n",
        "interests_by_user_id = defaultdict(list)"
      ],
      "execution_count": 25,
      "outputs": []
    },
    {
      "cell_type": "code",
      "metadata": {
        "id": "Fm5V7Y-c8WTb"
      },
      "source": [
        "for user_id, interest in interests:\n",
        "  interests_by_user_id[user_id].append(interest)"
      ],
      "execution_count": 26,
      "outputs": []
    },
    {
      "cell_type": "code",
      "metadata": {
        "id": "KyMJ623-8wmy"
      },
      "source": [
        "def most_common_interest_with(user):\n",
        "  return Counter(interested_user_id\n",
        "                 for interest in interests_by_user_id[user[\"id\"]]\n",
        "                 for interests_by_user_id in user_ids_by_interest[interest]\n",
        "                 if interested_user_id != user[\"id\"])"
      ],
      "execution_count": 27,
      "outputs": []
    },
    {
      "cell_type": "markdown",
      "metadata": {
        "id": "sRhkO4GEANJl"
      },
      "source": [
        "##Salários e Experiência"
      ]
    },
    {
      "cell_type": "code",
      "metadata": {
        "id": "0KubYedK-fYK"
      },
      "source": [
        "#Relação de salários x anos de experiencia (salario, anos_experiencia)\n",
        "salaries_and_tenures = [(83000, 8.7), (88000, 8.1),\n",
        "                        (48000, 0.7), (76000, 6),\n",
        "                        (69000, 6.5), (76000, 7.5),\n",
        "                        (60000, 2.5), (83000, 10),\n",
        "                        (48000, 1.9), (63000, 4.2)]"
      ],
      "execution_count": 28,
      "outputs": []
    },
    {
      "cell_type": "code",
      "metadata": {
        "id": "qg_Lse6DATao"
      },
      "source": [
        "#as chaves são os anos, os valores são as listas dos salários para cada ano\n",
        "salary_by_tenure = defaultdict(list)"
      ],
      "execution_count": 29,
      "outputs": []
    },
    {
      "cell_type": "code",
      "metadata": {
        "id": "sMHwFzNWA1Xw"
      },
      "source": [
        "for salary, tenure in salaries_and_tenures:\n",
        "  salary_by_tenure[tenure].append(salary)"
      ],
      "execution_count": 30,
      "outputs": []
    },
    {
      "cell_type": "code",
      "metadata": {
        "id": "8kc4AlYHBBJ4"
      },
      "source": [
        "#as chaves são os anos, cada valor é a média salarial para aquele ano \n",
        "average_salary_by_tenure = {\n",
        "    tenure : sum(salaries) / len(salaries)\n",
        "    for tenure, salaries in salary_by_tenure.items()\n",
        "}"
      ],
      "execution_count": 31,
      "outputs": []
    },
    {
      "cell_type": "code",
      "metadata": {
        "colab": {
          "base_uri": "https://localhost:8080/"
        },
        "id": "s36H6T0TBdwv",
        "outputId": "7605c0b4-fa6d-4021-8db7-39f901b0143d"
      },
      "source": [
        "average_salary_by_tenure"
      ],
      "execution_count": 32,
      "outputs": [
        {
          "output_type": "execute_result",
          "data": {
            "text/plain": [
              "{0.7: 48000.0,\n",
              " 1.9: 48000.0,\n",
              " 2.5: 60000.0,\n",
              " 4.2: 63000.0,\n",
              " 6: 76000.0,\n",
              " 6.5: 69000.0,\n",
              " 7.5: 76000.0,\n",
              " 8.1: 88000.0,\n",
              " 8.7: 83000.0,\n",
              " 10: 83000.0}"
            ]
          },
          "metadata": {
            "tags": []
          },
          "execution_count": 32
        }
      ]
    },
    {
      "cell_type": "code",
      "metadata": {
        "id": "S1t5Xh6WB8uP"
      },
      "source": [
        "#agrupando os casos\n",
        "def tenure_bucket(tenure):\n",
        "  if tenure < 2:\n",
        "    return \"less than two\"\n",
        "  elif tenure < 5:\n",
        "    return \"between two and five\"\n",
        "  else:\n",
        "    return \"more than five\""
      ],
      "execution_count": 33,
      "outputs": []
    },
    {
      "cell_type": "code",
      "metadata": {
        "id": "T_XGz7HSDUOG"
      },
      "source": [
        "salary_by_tenure_bucket = defaultdict(list)"
      ],
      "execution_count": 34,
      "outputs": []
    },
    {
      "cell_type": "code",
      "metadata": {
        "id": "iixQNPJdEBLo"
      },
      "source": [
        "#junta os salarios correspondentes para cada agrupamento\n",
        "for salary, tenure in salaries_and_tenures:\n",
        "  bucket = tenure_bucket(tenure)\n",
        "  salary_by_tenure_bucket[bucket].append(salary)"
      ],
      "execution_count": 35,
      "outputs": []
    },
    {
      "cell_type": "code",
      "metadata": {
        "id": "WGruIrN9EZkR"
      },
      "source": [
        "#computa a media salarial para cada grupo\n",
        "avarage_salary_by_bucket = {\n",
        "    tenure_bucket : sum(salaries) / len(salaries)\n",
        "    for tenure_bucket, salaries in salary_by_tenure_bucket.items()\n",
        "}"
      ],
      "execution_count": 36,
      "outputs": []
    },
    {
      "cell_type": "code",
      "metadata": {
        "colab": {
          "base_uri": "https://localhost:8080/"
        },
        "id": "wHLd8bErGIHf",
        "outputId": "0b2deff1-11e7-4bf8-a2ac-7a9b820772fb"
      },
      "source": [
        "avarage_salary_by_bucket"
      ],
      "execution_count": 37,
      "outputs": [
        {
          "output_type": "execute_result",
          "data": {
            "text/plain": [
              "{'between two and five': 61500.0,\n",
              " 'less than two': 48000.0,\n",
              " 'more than five': 79166.66666666667}"
            ]
          },
          "metadata": {
            "tags": []
          },
          "execution_count": 37
        }
      ]
    },
    {
      "cell_type": "code",
      "metadata": {
        "id": "Ko5PlnHaGQen"
      },
      "source": [
        "def predict_paid_or_unpaid(years_experience):\n",
        "  if years_experience < 3.0:\n",
        "    return \"paid\"\n",
        "  elif years_experience < 8.5:\n",
        "    return \"unpaid\"\n",
        "  else:\n",
        "    return \"paid\""
      ],
      "execution_count": 38,
      "outputs": []
    },
    {
      "cell_type": "code",
      "metadata": {
        "colab": {
          "base_uri": "https://localhost:8080/",
          "height": 0
        },
        "id": "OxZFQQFPHYuk",
        "outputId": "a9349285-842d-4e73-d5c4-e0f1ba76c63b"
      },
      "source": [
        "predict_paid_or_unpaid(1)"
      ],
      "execution_count": 39,
      "outputs": [
        {
          "output_type": "execute_result",
          "data": {
            "application/vnd.google.colaboratory.intrinsic+json": {
              "type": "string"
            },
            "text/plain": [
              "'paid'"
            ]
          },
          "metadata": {
            "tags": []
          },
          "execution_count": 39
        }
      ]
    },
    {
      "cell_type": "code",
      "metadata": {
        "colab": {
          "base_uri": "https://localhost:8080/"
        },
        "id": "-pFanE_tHbP_",
        "outputId": "0695b6bf-cde3-44ba-9414-8032fe3e513a"
      },
      "source": [
        "interests"
      ],
      "execution_count": 40,
      "outputs": [
        {
          "output_type": "execute_result",
          "data": {
            "text/plain": [
              "[(0, 'Hadoop'),\n",
              " (0, 'Big Data'),\n",
              " (0, 'HBase'),\n",
              " (0, 'Java'),\n",
              " (0, 'Spark'),\n",
              " (0, 'Storm'),\n",
              " (0, 'Cassandra'),\n",
              " (1, 'NoSQL'),\n",
              " (1, 'MongoDB'),\n",
              " (1, 'Cassandra'),\n",
              " (1, 'HBase'),\n",
              " (1, 'Postgres'),\n",
              " (2, 'Python'),\n",
              " (2, 'scikit-learn'),\n",
              " (2, 'scipy'),\n",
              " (2, 'numoy'),\n",
              " (2, 'statsmodels'),\n",
              " (2, 'pandas'),\n",
              " (3, 'R'),\n",
              " (3, 'Python'),\n",
              " (3, 'statistics'),\n",
              " (3, 'regression'),\n",
              " (3, 'probability'),\n",
              " (4, 'machine learning'),\n",
              " (4, 'regression'),\n",
              " (4, 'decision trees'),\n",
              " (4, 'libsvm'),\n",
              " (5, 'Python'),\n",
              " (5, 'R'),\n",
              " (5, 'Java'),\n",
              " (5, 'C++'),\n",
              " (5, 'Haskell'),\n",
              " (5, 'programming languages'),\n",
              " (6, 'statistics'),\n",
              " (6, 'probability'),\n",
              " (6, 'mathematics'),\n",
              " (6, 'theory'),\n",
              " (7, 'machine learning'),\n",
              " (7, 'scikit-learn'),\n",
              " (7, 'Mahout'),\n",
              " (7, 'neural networks'),\n",
              " (8, 'neural networks'),\n",
              " (8, 'deep learning'),\n",
              " (8, 'Big Data'),\n",
              " (8, 'artificial inteligence'),\n",
              " (9, 'Hadoop'),\n",
              " (9, 'Java'),\n",
              " (9, 'MapReduce'),\n",
              " (9, 'Big Data')]"
            ]
          },
          "metadata": {
            "tags": []
          },
          "execution_count": 40
        }
      ]
    },
    {
      "cell_type": "code",
      "metadata": {
        "id": "3fXviGksHkqE"
      },
      "source": [
        "words_and_counts = Counter(word\n",
        "                           for user, interest in interests\n",
        "                           for word in interest.lower().split())"
      ],
      "execution_count": 41,
      "outputs": []
    },
    {
      "cell_type": "code",
      "metadata": {
        "colab": {
          "base_uri": "https://localhost:8080/"
        },
        "id": "jXyCCCH9H6p1",
        "outputId": "ead7b900-c01d-4512-ec69-cde019c0ceae"
      },
      "source": [
        "for word, count in words_and_counts.most_common():\n",
        "                                                if count > 1:\n",
        "                                                  print (word, count)"
      ],
      "execution_count": 42,
      "outputs": [
        {
          "output_type": "stream",
          "text": [
            "big 3\n",
            "data 3\n",
            "java 3\n",
            "python 3\n",
            "learning 3\n",
            "hadoop 2\n",
            "hbase 2\n",
            "cassandra 2\n",
            "scikit-learn 2\n",
            "r 2\n",
            "statistics 2\n",
            "regression 2\n",
            "probability 2\n",
            "machine 2\n",
            "neural 2\n",
            "networks 2\n"
          ],
          "name": "stdout"
        }
      ]
    },
    {
      "cell_type": "markdown",
      "metadata": {
        "id": "ghJRmtasI3Lx"
      },
      "source": [
        "#Capítulo 2 - Curso Relâmpago de Python\n",
        "##O básico - pág 15"
      ]
    },
    {
      "cell_type": "code",
      "metadata": {
        "colab": {
          "base_uri": "https://localhost:8080/"
        },
        "id": "XSHRrtpfIFts",
        "outputId": "ec775fa8-e48d-4fbc-ad80-cc6275cb5b07"
      },
      "source": [
        "!python2 --version"
      ],
      "execution_count": 43,
      "outputs": [
        {
          "output_type": "stream",
          "text": [
            "Python 2.7.17\n"
          ],
          "name": "stdout"
        }
      ]
    },
    {
      "cell_type": "code",
      "metadata": {
        "id": "6wijFA3wKL6s",
        "colab": {
          "base_uri": "https://localhost:8080/"
        },
        "outputId": "133ae161-d743-479b-e8be-f0daedd6c3e8"
      },
      "source": [
        "for i in [1, 2, 3, 4, 5]:\n",
        "  print(i)\n",
        "  for j in [1, 2, 3, 4, 5]:\n",
        "    print(j)\n",
        "    print(i + j)\n",
        "  print(i)\n",
        "print(\"done looping\")\n"
      ],
      "execution_count": 44,
      "outputs": [
        {
          "output_type": "stream",
          "text": [
            "1\n",
            "1\n",
            "2\n",
            "2\n",
            "3\n",
            "3\n",
            "4\n",
            "4\n",
            "5\n",
            "5\n",
            "6\n",
            "1\n",
            "2\n",
            "1\n",
            "3\n",
            "2\n",
            "4\n",
            "3\n",
            "5\n",
            "4\n",
            "6\n",
            "5\n",
            "7\n",
            "2\n",
            "3\n",
            "1\n",
            "4\n",
            "2\n",
            "5\n",
            "3\n",
            "6\n",
            "4\n",
            "7\n",
            "5\n",
            "8\n",
            "3\n",
            "4\n",
            "1\n",
            "5\n",
            "2\n",
            "6\n",
            "3\n",
            "7\n",
            "4\n",
            "8\n",
            "5\n",
            "9\n",
            "4\n",
            "5\n",
            "1\n",
            "6\n",
            "2\n",
            "7\n",
            "3\n",
            "8\n",
            "4\n",
            "9\n",
            "5\n",
            "10\n",
            "5\n",
            "done looping\n"
          ],
          "name": "stdout"
        }
      ]
    },
    {
      "cell_type": "code",
      "metadata": {
        "colab": {
          "base_uri": "https://localhost:8080/"
        },
        "id": "_YzTd2NnoHkN",
        "outputId": "398dc776-99c1-4542-8fae-45900928940d"
      },
      "source": [
        "long_winded_computation = (1 + 2 + 3 + 4 + 5 + 6 + 7 + 8 + 9 + 10 + 11 + 12 + 13 + 14 + 15 + 16 + 17 + 18 + 19 + 20)\n",
        "long_winded_computation"
      ],
      "execution_count": 45,
      "outputs": [
        {
          "output_type": "execute_result",
          "data": {
            "text/plain": [
              "210"
            ]
          },
          "metadata": {
            "tags": []
          },
          "execution_count": 45
        }
      ]
    },
    {
      "cell_type": "code",
      "metadata": {
        "colab": {
          "base_uri": "https://localhost:8080/"
        },
        "id": "NJpDmvW7q7Qr",
        "outputId": "78f2372e-9401-4441-9e38-1e0e09f2d14d"
      },
      "source": [
        "list_of_lists = [[1, 2, 3], [4, 5, 6], [7, 8, 9]]\n",
        "list_of_lists"
      ],
      "execution_count": 46,
      "outputs": [
        {
          "output_type": "execute_result",
          "data": {
            "text/plain": [
              "[[1, 2, 3], [4, 5, 6], [7, 8, 9]]"
            ]
          },
          "metadata": {
            "tags": []
          },
          "execution_count": 46
        }
      ]
    },
    {
      "cell_type": "code",
      "metadata": {
        "colab": {
          "base_uri": "https://localhost:8080/"
        },
        "id": "me-sjxt2rM4h",
        "outputId": "16eb0198-feb2-4ef1-df16-577a95e728cf"
      },
      "source": [
        "easier_to_read_list_of_lists = [ [1, 2, 3],\n",
        "                                 [4, 5, 6],\n",
        "                                 [7, 8, 9]\n",
        "]\n",
        "easier_to_read_list_of_lists"
      ],
      "execution_count": 47,
      "outputs": [
        {
          "output_type": "execute_result",
          "data": {
            "text/plain": [
              "[[1, 2, 3], [4, 5, 6], [7, 8, 9]]"
            ]
          },
          "metadata": {
            "tags": []
          },
          "execution_count": 47
        }
      ]
    },
    {
      "cell_type": "code",
      "metadata": {
        "colab": {
          "base_uri": "https://localhost:8080/"
        },
        "id": "vByqHd0UrhJY",
        "outputId": "66aa9cde-742a-4d55-a3d2-d6b0230bfba6"
      },
      "source": [
        "two_plus_three = 2 + \\\n",
        "                 3\n",
        "two_plus_three"
      ],
      "execution_count": 48,
      "outputs": [
        {
          "output_type": "execute_result",
          "data": {
            "text/plain": [
              "5"
            ]
          },
          "metadata": {
            "tags": []
          },
          "execution_count": 48
        }
      ]
    },
    {
      "cell_type": "code",
      "metadata": {
        "id": "_nKVenNir6zl"
      },
      "source": [
        "import re"
      ],
      "execution_count": 49,
      "outputs": []
    },
    {
      "cell_type": "code",
      "metadata": {
        "colab": {
          "base_uri": "https://localhost:8080/"
        },
        "id": "SijeheMKsOPu",
        "outputId": "eb492322-cc31-4db0-8baf-2d45a0ca3b06"
      },
      "source": [
        "my_regex = re.compile(\"[0-9]+\", re.I)\n",
        "my_regex"
      ],
      "execution_count": 50,
      "outputs": [
        {
          "output_type": "execute_result",
          "data": {
            "text/plain": [
              "re.compile(r'[0-9]+', re.IGNORECASE|re.UNICODE)"
            ]
          },
          "metadata": {
            "tags": []
          },
          "execution_count": 50
        }
      ]
    },
    {
      "cell_type": "code",
      "metadata": {
        "id": "-BohoSa1sZJ1"
      },
      "source": [
        "import matplotlib.pyplot as plt"
      ],
      "execution_count": 51,
      "outputs": []
    },
    {
      "cell_type": "code",
      "metadata": {
        "id": "N3nxj2aGsr8d"
      },
      "source": [
        "from collections import defaultdict, Counter"
      ],
      "execution_count": 52,
      "outputs": []
    },
    {
      "cell_type": "code",
      "metadata": {
        "colab": {
          "base_uri": "https://localhost:8080/"
        },
        "id": "4i1azao7sx7d",
        "outputId": "e5f4a6d5-a22f-4342-e407-69f02fa58988"
      },
      "source": [
        "lookup = defaultdict(int)\n",
        "lookup"
      ],
      "execution_count": 53,
      "outputs": [
        {
          "output_type": "execute_result",
          "data": {
            "text/plain": [
              "defaultdict(int, {})"
            ]
          },
          "metadata": {
            "tags": []
          },
          "execution_count": 53
        }
      ]
    },
    {
      "cell_type": "code",
      "metadata": {
        "colab": {
          "base_uri": "https://localhost:8080/"
        },
        "id": "c1DmKptIs2ht",
        "outputId": "74753983-e9a0-4103-b880-c4a14a1719ae"
      },
      "source": [
        "my_counter = Counter()\n",
        "my_counter"
      ],
      "execution_count": 54,
      "outputs": [
        {
          "output_type": "execute_result",
          "data": {
            "text/plain": [
              "Counter()"
            ]
          },
          "metadata": {
            "tags": []
          },
          "execution_count": 54
        }
      ]
    },
    {
      "cell_type": "code",
      "metadata": {
        "colab": {
          "base_uri": "https://localhost:8080/"
        },
        "id": "4sJHcg4Qs89t",
        "outputId": "2021047c-e5b8-4385-c945-ac2e48767467"
      },
      "source": [
        "match = 10\n",
        "match"
      ],
      "execution_count": 55,
      "outputs": [
        {
          "output_type": "execute_result",
          "data": {
            "text/plain": [
              "10"
            ]
          },
          "metadata": {
            "tags": []
          },
          "execution_count": 55
        }
      ]
    },
    {
      "cell_type": "code",
      "metadata": {
        "colab": {
          "base_uri": "https://localhost:8080/"
        },
        "id": "rQcOvutVtD4V",
        "outputId": "d9c801cf-f0ae-4b20-a071-cf4e71f2b38c"
      },
      "source": [
        "from re import *\n",
        "match"
      ],
      "execution_count": 56,
      "outputs": [
        {
          "output_type": "execute_result",
          "data": {
            "text/plain": [
              "<function re.match>"
            ]
          },
          "metadata": {
            "tags": []
          },
          "execution_count": 56
        }
      ]
    },
    {
      "cell_type": "code",
      "metadata": {
        "id": "5MtcWLDmuctm"
      },
      "source": [
        "from __future__ import division"
      ],
      "execution_count": 57,
      "outputs": []
    },
    {
      "cell_type": "code",
      "metadata": {
        "colab": {
          "base_uri": "https://localhost:8080/"
        },
        "id": "YQdZll2JumZt",
        "outputId": "86597516-8394-4078-f6c9-f9bcfac81496"
      },
      "source": [
        "5/2"
      ],
      "execution_count": 58,
      "outputs": [
        {
          "output_type": "execute_result",
          "data": {
            "text/plain": [
              "2.5"
            ]
          },
          "metadata": {
            "tags": []
          },
          "execution_count": 58
        }
      ]
    },
    {
      "cell_type": "code",
      "metadata": {
        "id": "ydUDMLV0uucu"
      },
      "source": [
        "def double(x):\n",
        "  return x * 2"
      ],
      "execution_count": 59,
      "outputs": []
    },
    {
      "cell_type": "code",
      "metadata": {
        "colab": {
          "base_uri": "https://localhost:8080/"
        },
        "id": "IeYrvGDAu6Ta",
        "outputId": "0cab524a-371a-4336-aaa7-1a6fc0479a11"
      },
      "source": [
        "double(5)"
      ],
      "execution_count": 60,
      "outputs": [
        {
          "output_type": "execute_result",
          "data": {
            "text/plain": [
              "10"
            ]
          },
          "metadata": {
            "tags": []
          },
          "execution_count": 60
        }
      ]
    },
    {
      "cell_type": "code",
      "metadata": {
        "id": "QlxLn6a4u7qu"
      },
      "source": [
        "def apply_to_one(f):\n",
        "  return f(1)"
      ],
      "execution_count": 61,
      "outputs": []
    },
    {
      "cell_type": "code",
      "metadata": {
        "colab": {
          "base_uri": "https://localhost:8080/"
        },
        "id": "NmWl0NdtvOvv",
        "outputId": "93079132-036a-41d8-8718-9a3ac74b30aa"
      },
      "source": [
        "my_double = double\n",
        "x = apply_to_one(my_double)\n",
        "x"
      ],
      "execution_count": 62,
      "outputs": [
        {
          "output_type": "execute_result",
          "data": {
            "text/plain": [
              "2"
            ]
          },
          "metadata": {
            "tags": []
          },
          "execution_count": 62
        }
      ]
    },
    {
      "cell_type": "code",
      "metadata": {
        "colab": {
          "base_uri": "https://localhost:8080/"
        },
        "id": "2svtTSlrxMeY",
        "outputId": "2424f67f-07c5-453b-aa58-ff9dacc7e8c5"
      },
      "source": [
        "y = apply_to_one(lambda x: x + 4)\n",
        "y"
      ],
      "execution_count": 63,
      "outputs": [
        {
          "output_type": "execute_result",
          "data": {
            "text/plain": [
              "5"
            ]
          },
          "metadata": {
            "tags": []
          },
          "execution_count": 63
        }
      ]
    },
    {
      "cell_type": "code",
      "metadata": {
        "colab": {
          "base_uri": "https://localhost:8080/"
        },
        "id": "ZKRJtv7-xOn_",
        "outputId": "04037d8c-2ed2-40a7-9037-c0ba2aaf662a"
      },
      "source": [
        "another_double = lambda x: x + 2\n",
        "another_double"
      ],
      "execution_count": 64,
      "outputs": [
        {
          "output_type": "execute_result",
          "data": {
            "text/plain": [
              "<function __main__.<lambda>>"
            ]
          },
          "metadata": {
            "tags": []
          },
          "execution_count": 64
        }
      ]
    },
    {
      "cell_type": "code",
      "metadata": {
        "id": "5XOEtaFLxuiv"
      },
      "source": [
        "def another_double(x):\n",
        "  return 2 * x"
      ],
      "execution_count": 65,
      "outputs": []
    },
    {
      "cell_type": "code",
      "metadata": {
        "colab": {
          "base_uri": "https://localhost:8080/"
        },
        "id": "1mLmKcdIx5oA",
        "outputId": "fe492928-fe89-4190-ed7a-1a7f707b5ed9"
      },
      "source": [
        "another_double(2)"
      ],
      "execution_count": 66,
      "outputs": [
        {
          "output_type": "execute_result",
          "data": {
            "text/plain": [
              "4"
            ]
          },
          "metadata": {
            "tags": []
          },
          "execution_count": 66
        }
      ]
    },
    {
      "cell_type": "code",
      "metadata": {
        "id": "gNW1VjK0x6ve"
      },
      "source": [
        "def my_print(message= \"my default message\"):\n",
        "  print(message)"
      ],
      "execution_count": 67,
      "outputs": []
    },
    {
      "cell_type": "code",
      "metadata": {
        "colab": {
          "base_uri": "https://localhost:8080/"
        },
        "id": "jzUhVL1iyRuv",
        "outputId": "105011fb-0dd3-4164-8e34-7a2cfe7699b3"
      },
      "source": [
        "my_print(\"hello\")"
      ],
      "execution_count": 68,
      "outputs": [
        {
          "output_type": "stream",
          "text": [
            "hello\n"
          ],
          "name": "stdout"
        }
      ]
    },
    {
      "cell_type": "code",
      "metadata": {
        "colab": {
          "base_uri": "https://localhost:8080/"
        },
        "id": "hPzcDkPRyYMn",
        "outputId": "735f901b-381a-49dd-a73f-5f2103889306"
      },
      "source": [
        "my_print()"
      ],
      "execution_count": 69,
      "outputs": [
        {
          "output_type": "stream",
          "text": [
            "my default message\n"
          ],
          "name": "stdout"
        }
      ]
    },
    {
      "cell_type": "code",
      "metadata": {
        "id": "WwhXpyLXyZt4"
      },
      "source": [
        "def subtract(a=0, b=0):\n",
        "  return a - b"
      ],
      "execution_count": 70,
      "outputs": []
    },
    {
      "cell_type": "code",
      "metadata": {
        "colab": {
          "base_uri": "https://localhost:8080/"
        },
        "id": "P2TeEh10yoW_",
        "outputId": "25e5075b-0e3f-4fdb-d972-0ed6d577981b"
      },
      "source": [
        "subtract(10, 5)"
      ],
      "execution_count": 71,
      "outputs": [
        {
          "output_type": "execute_result",
          "data": {
            "text/plain": [
              "5"
            ]
          },
          "metadata": {
            "tags": []
          },
          "execution_count": 71
        }
      ]
    },
    {
      "cell_type": "code",
      "metadata": {
        "colab": {
          "base_uri": "https://localhost:8080/",
          "height": 0
        },
        "id": "rUhurzpryrTA",
        "outputId": "12b766ff-4625-40a4-90bd-a9352fde27e6"
      },
      "source": [
        "single_quoted_string = 'data science'\n",
        "single_quoted_string"
      ],
      "execution_count": 72,
      "outputs": [
        {
          "output_type": "execute_result",
          "data": {
            "application/vnd.google.colaboratory.intrinsic+json": {
              "type": "string"
            },
            "text/plain": [
              "'data science'"
            ]
          },
          "metadata": {
            "tags": []
          },
          "execution_count": 72
        }
      ]
    },
    {
      "cell_type": "code",
      "metadata": {
        "colab": {
          "base_uri": "https://localhost:8080/",
          "height": 0
        },
        "id": "MWeKOC6Sy84g",
        "outputId": "32d7fa28-4138-421e-df4c-e39bbd06d210"
      },
      "source": [
        "double_quoted_string = \"data science\"\n",
        "double_quoted_string"
      ],
      "execution_count": 73,
      "outputs": [
        {
          "output_type": "execute_result",
          "data": {
            "application/vnd.google.colaboratory.intrinsic+json": {
              "type": "string"
            },
            "text/plain": [
              "'data science'"
            ]
          },
          "metadata": {
            "tags": []
          },
          "execution_count": 73
        }
      ]
    },
    {
      "cell_type": "code",
      "metadata": {
        "colab": {
          "base_uri": "https://localhost:8080/",
          "height": 0
        },
        "id": "tEZNN5cozIBi",
        "outputId": "67a4abfc-665d-48c7-ebbd-21fcc1ba9851"
      },
      "source": [
        "tab_string = \"\\t\"\n",
        "tab_string"
      ],
      "execution_count": 74,
      "outputs": [
        {
          "output_type": "execute_result",
          "data": {
            "application/vnd.google.colaboratory.intrinsic+json": {
              "type": "string"
            },
            "text/plain": [
              "'\\t'"
            ]
          },
          "metadata": {
            "tags": []
          },
          "execution_count": 74
        }
      ]
    },
    {
      "cell_type": "code",
      "metadata": {
        "colab": {
          "base_uri": "https://localhost:8080/"
        },
        "id": "3j3QNqxazQH_",
        "outputId": "96dd8a88-662f-4838-de31-5bb6b960d805"
      },
      "source": [
        "len(tab_string)"
      ],
      "execution_count": 75,
      "outputs": [
        {
          "output_type": "execute_result",
          "data": {
            "text/plain": [
              "1"
            ]
          },
          "metadata": {
            "tags": []
          },
          "execution_count": 75
        }
      ]
    },
    {
      "cell_type": "code",
      "metadata": {
        "colab": {
          "base_uri": "https://localhost:8080/",
          "height": 0
        },
        "id": "RffwZ76czTOI",
        "outputId": "880b8ad3-8ffa-45ab-c906-967e91910153"
      },
      "source": [
        "not_tab_string = r\"\\t\"\n",
        "not_tab_string"
      ],
      "execution_count": 76,
      "outputs": [
        {
          "output_type": "execute_result",
          "data": {
            "application/vnd.google.colaboratory.intrinsic+json": {
              "type": "string"
            },
            "text/plain": [
              "'\\\\t'"
            ]
          },
          "metadata": {
            "tags": []
          },
          "execution_count": 76
        }
      ]
    },
    {
      "cell_type": "code",
      "metadata": {
        "colab": {
          "base_uri": "https://localhost:8080/"
        },
        "id": "k-svvRcRzoxg",
        "outputId": "b283f64d-d664-4973-ea47-2ba65bd18d80"
      },
      "source": [
        "len(not_tab_string)"
      ],
      "execution_count": 77,
      "outputs": [
        {
          "output_type": "execute_result",
          "data": {
            "text/plain": [
              "2"
            ]
          },
          "metadata": {
            "tags": []
          },
          "execution_count": 77
        }
      ]
    },
    {
      "cell_type": "code",
      "metadata": {
        "id": "TG84o4bCzrgR"
      },
      "source": [
        "multi_line_string = \"\"\"esta é a primeira linha\n",
        " e esta é a segunda\n",
        " e esta é a terceira\"\"\""
      ],
      "execution_count": 78,
      "outputs": []
    },
    {
      "cell_type": "code",
      "metadata": {
        "colab": {
          "base_uri": "https://localhost:8080/",
          "height": 0
        },
        "id": "9Y9KU5Rtz6KZ",
        "outputId": "c5f800f8-a26b-4abb-a933-bef4a576b4de"
      },
      "source": [
        "multi_line_string"
      ],
      "execution_count": 79,
      "outputs": [
        {
          "output_type": "execute_result",
          "data": {
            "application/vnd.google.colaboratory.intrinsic+json": {
              "type": "string"
            },
            "text/plain": [
              "'esta é a primeira linha\\n e esta é a segunda\\n e esta é a terceira'"
            ]
          },
          "metadata": {
            "tags": []
          },
          "execution_count": 79
        }
      ]
    },
    {
      "cell_type": "code",
      "metadata": {
        "colab": {
          "base_uri": "https://localhost:8080/"
        },
        "id": "FcIL2bYyz7G_",
        "outputId": "dbaaed64-eba0-46ee-aa53-4ae143863e8d"
      },
      "source": [
        "try:\n",
        "  print (0 / 0)\n",
        "except ZeroDivisionError:\n",
        "  print (\"cannot divide by zero\")"
      ],
      "execution_count": 80,
      "outputs": [
        {
          "output_type": "stream",
          "text": [
            "cannot divide by zero\n"
          ],
          "name": "stdout"
        }
      ]
    },
    {
      "cell_type": "code",
      "metadata": {
        "colab": {
          "base_uri": "https://localhost:8080/"
        },
        "id": "HieXCg2_0OFf",
        "outputId": "2273e6ba-3f16-4550-89ff-dacade818851"
      },
      "source": [
        "integer_list = [1, 2, 3]\n",
        "integer_list"
      ],
      "execution_count": 81,
      "outputs": [
        {
          "output_type": "execute_result",
          "data": {
            "text/plain": [
              "[1, 2, 3]"
            ]
          },
          "metadata": {
            "tags": []
          },
          "execution_count": 81
        }
      ]
    },
    {
      "cell_type": "code",
      "metadata": {
        "colab": {
          "base_uri": "https://localhost:8080/"
        },
        "id": "NWKtxlMV0hVS",
        "outputId": "d33b0879-e7e9-4eba-c507-c98979261eb8"
      },
      "source": [
        "heterogeneous_list = [\"string\", 0.1, True]\n",
        "heterogeneous_list"
      ],
      "execution_count": 82,
      "outputs": [
        {
          "output_type": "execute_result",
          "data": {
            "text/plain": [
              "['string', 0.1, True]"
            ]
          },
          "metadata": {
            "tags": []
          },
          "execution_count": 82
        }
      ]
    },
    {
      "cell_type": "code",
      "metadata": {
        "colab": {
          "base_uri": "https://localhost:8080/"
        },
        "id": "77WXrQom0v1S",
        "outputId": "e2bc0b60-87f3-469f-fb26-554e6de79e07"
      },
      "source": [
        "list_of_lists = [integer_list, heterogeneous_list, []]\n",
        "list_of_lists"
      ],
      "execution_count": 83,
      "outputs": [
        {
          "output_type": "execute_result",
          "data": {
            "text/plain": [
              "[[1, 2, 3], ['string', 0.1, True], []]"
            ]
          },
          "metadata": {
            "tags": []
          },
          "execution_count": 83
        }
      ]
    },
    {
      "cell_type": "code",
      "metadata": {
        "colab": {
          "base_uri": "https://localhost:8080/"
        },
        "id": "zYbgu2Za06SA",
        "outputId": "de08e787-7dfa-4845-8269-c847422a113d"
      },
      "source": [
        "list_length = len(integer_list)\n",
        "list_length"
      ],
      "execution_count": 84,
      "outputs": [
        {
          "output_type": "execute_result",
          "data": {
            "text/plain": [
              "3"
            ]
          },
          "metadata": {
            "tags": []
          },
          "execution_count": 84
        }
      ]
    },
    {
      "cell_type": "code",
      "metadata": {
        "colab": {
          "base_uri": "https://localhost:8080/"
        },
        "id": "uuNw-R452gT7",
        "outputId": "46a8b984-b755-405b-9975-f18656f19a12"
      },
      "source": [
        "list_sum = sum(integer_list)\n",
        "list_sum"
      ],
      "execution_count": 85,
      "outputs": [
        {
          "output_type": "execute_result",
          "data": {
            "text/plain": [
              "6"
            ]
          },
          "metadata": {
            "tags": []
          },
          "execution_count": 85
        }
      ]
    },
    {
      "cell_type": "code",
      "metadata": {
        "colab": {
          "base_uri": "https://localhost:8080/"
        },
        "id": "9KL_bcxy2mmb",
        "outputId": "19280037-79b5-4fb2-c6d4-abcae72a1a18"
      },
      "source": [
        "x = range(10)\n",
        "x"
      ],
      "execution_count": 86,
      "outputs": [
        {
          "output_type": "execute_result",
          "data": {
            "text/plain": [
              "range(0, 10)"
            ]
          },
          "metadata": {
            "tags": []
          },
          "execution_count": 86
        }
      ]
    },
    {
      "cell_type": "code",
      "metadata": {
        "colab": {
          "base_uri": "https://localhost:8080/"
        },
        "id": "j-IWS6qh-Bez",
        "outputId": "8eaa6348-41f6-4ae7-e3c5-0c87cc2177a3"
      },
      "source": [
        "zero = x[0]\n",
        "zero"
      ],
      "execution_count": 87,
      "outputs": [
        {
          "output_type": "execute_result",
          "data": {
            "text/plain": [
              "0"
            ]
          },
          "metadata": {
            "tags": []
          },
          "execution_count": 87
        }
      ]
    },
    {
      "cell_type": "code",
      "metadata": {
        "colab": {
          "base_uri": "https://localhost:8080/"
        },
        "id": "mMiKYqfZ-pw8",
        "outputId": "1794c11a-e30e-4de0-b669-eeab062ca211"
      },
      "source": [
        "one = x[1]\n",
        "one"
      ],
      "execution_count": 88,
      "outputs": [
        {
          "output_type": "execute_result",
          "data": {
            "text/plain": [
              "1"
            ]
          },
          "metadata": {
            "tags": []
          },
          "execution_count": 88
        }
      ]
    },
    {
      "cell_type": "code",
      "metadata": {
        "colab": {
          "base_uri": "https://localhost:8080/"
        },
        "id": "FMqETp6_-yhZ",
        "outputId": "28a18b93-582e-4858-9b86-a1b3df20300c"
      },
      "source": [
        "nine = x[-1]\n",
        "nine"
      ],
      "execution_count": 89,
      "outputs": [
        {
          "output_type": "execute_result",
          "data": {
            "text/plain": [
              "9"
            ]
          },
          "metadata": {
            "tags": []
          },
          "execution_count": 89
        }
      ]
    },
    {
      "cell_type": "code",
      "metadata": {
        "colab": {
          "base_uri": "https://localhost:8080/"
        },
        "id": "19gH4pOo_JgH",
        "outputId": "c97bfcdf-de05-4623-d8a2-c9483b76864e"
      },
      "source": [
        "eight = x[-2]\n",
        "eight"
      ],
      "execution_count": 90,
      "outputs": [
        {
          "output_type": "execute_result",
          "data": {
            "text/plain": [
              "8"
            ]
          },
          "metadata": {
            "tags": []
          },
          "execution_count": 90
        }
      ]
    },
    {
      "cell_type": "code",
      "metadata": {
        "colab": {
          "base_uri": "https://localhost:8080/"
        },
        "id": "0Q9JhWgI_SVv",
        "outputId": "80f9b61c-c6ff-47f6-cc98-606e5e32090e"
      },
      "source": [
        "first_three = x[:3]\r\n",
        "first_three"
      ],
      "execution_count": 91,
      "outputs": [
        {
          "output_type": "execute_result",
          "data": {
            "text/plain": [
              "range(0, 3)"
            ]
          },
          "metadata": {
            "tags": []
          },
          "execution_count": 91
        }
      ]
    },
    {
      "cell_type": "code",
      "metadata": {
        "id": "wDF6mEyq_bMM",
        "colab": {
          "base_uri": "https://localhost:8080/"
        },
        "outputId": "e9536df2-37d3-4743-da37-bd4cb479907b"
      },
      "source": [
        "three_to_end = x[3:]\r\n",
        "three_to_end"
      ],
      "execution_count": 92,
      "outputs": [
        {
          "output_type": "execute_result",
          "data": {
            "text/plain": [
              "range(3, 10)"
            ]
          },
          "metadata": {
            "tags": []
          },
          "execution_count": 92
        }
      ]
    },
    {
      "cell_type": "code",
      "metadata": {
        "colab": {
          "base_uri": "https://localhost:8080/"
        },
        "id": "gK5JOVeIkK9-",
        "outputId": "e528c0ed-3e85-4e8d-9957-74dc7f418448"
      },
      "source": [
        "one_to_four = x[1:5]\r\n",
        "one_to_four"
      ],
      "execution_count": 93,
      "outputs": [
        {
          "output_type": "execute_result",
          "data": {
            "text/plain": [
              "range(1, 5)"
            ]
          },
          "metadata": {
            "tags": []
          },
          "execution_count": 93
        }
      ]
    },
    {
      "cell_type": "code",
      "metadata": {
        "colab": {
          "base_uri": "https://localhost:8080/"
        },
        "id": "xS5A_Tg7k2EQ",
        "outputId": "d738a68d-f459-49de-dd21-8a8a6a763230"
      },
      "source": [
        "last_three = x[-3:]\r\n",
        "last_three"
      ],
      "execution_count": 94,
      "outputs": [
        {
          "output_type": "execute_result",
          "data": {
            "text/plain": [
              "range(7, 10)"
            ]
          },
          "metadata": {
            "tags": []
          },
          "execution_count": 94
        }
      ]
    },
    {
      "cell_type": "code",
      "metadata": {
        "colab": {
          "base_uri": "https://localhost:8080/"
        },
        "id": "21ba-laIk8SL",
        "outputId": "cbe8b982-945c-47b2-f4c8-4f1a1b5c5dce"
      },
      "source": [
        "without_first_and_last = x[1:-1]\r\n",
        "without_first_and_last"
      ],
      "execution_count": 95,
      "outputs": [
        {
          "output_type": "execute_result",
          "data": {
            "text/plain": [
              "range(1, 9)"
            ]
          },
          "metadata": {
            "tags": []
          },
          "execution_count": 95
        }
      ]
    },
    {
      "cell_type": "code",
      "metadata": {
        "colab": {
          "base_uri": "https://localhost:8080/"
        },
        "id": "0hz5XdTblLMC",
        "outputId": "d4e26b00-2cd3-453f-b548-c1306234ccd4"
      },
      "source": [
        "copy_of_x = x[:]\r\n",
        "copy_of_x"
      ],
      "execution_count": 96,
      "outputs": [
        {
          "output_type": "execute_result",
          "data": {
            "text/plain": [
              "range(0, 10)"
            ]
          },
          "metadata": {
            "tags": []
          },
          "execution_count": 96
        }
      ]
    },
    {
      "cell_type": "code",
      "metadata": {
        "colab": {
          "base_uri": "https://localhost:8080/"
        },
        "id": "0MZ02iHylRQb",
        "outputId": "605bbe58-3158-41d7-a033-c82b0fc925e1"
      },
      "source": [
        "1 in [1, 2, 3]"
      ],
      "execution_count": 97,
      "outputs": [
        {
          "output_type": "execute_result",
          "data": {
            "text/plain": [
              "True"
            ]
          },
          "metadata": {
            "tags": []
          },
          "execution_count": 97
        }
      ]
    },
    {
      "cell_type": "code",
      "metadata": {
        "colab": {
          "base_uri": "https://localhost:8080/"
        },
        "id": "nLG2m8ldlWIc",
        "outputId": "b0790c0d-73e5-40ff-f788-b4daa860f040"
      },
      "source": [
        "0 in [1, 2, 3]"
      ],
      "execution_count": 98,
      "outputs": [
        {
          "output_type": "execute_result",
          "data": {
            "text/plain": [
              "False"
            ]
          },
          "metadata": {
            "tags": []
          },
          "execution_count": 98
        }
      ]
    },
    {
      "cell_type": "code",
      "metadata": {
        "colab": {
          "base_uri": "https://localhost:8080/"
        },
        "id": "gC573YO4lYij",
        "outputId": "233abd1d-e921-4836-a2e3-05b30c6f8e1c"
      },
      "source": [
        "x = [1, 2, 3]\r\n",
        "x"
      ],
      "execution_count": 99,
      "outputs": [
        {
          "output_type": "execute_result",
          "data": {
            "text/plain": [
              "[1, 2, 3]"
            ]
          },
          "metadata": {
            "tags": []
          },
          "execution_count": 99
        }
      ]
    },
    {
      "cell_type": "code",
      "metadata": {
        "colab": {
          "base_uri": "https://localhost:8080/"
        },
        "id": "xi7PT3DelhhM",
        "outputId": "7f7bcb15-aeed-4c5a-9cd7-67945a6e1181"
      },
      "source": [
        "x.extend([4, 5, 6])\r\n",
        "x"
      ],
      "execution_count": 100,
      "outputs": [
        {
          "output_type": "execute_result",
          "data": {
            "text/plain": [
              "[1, 2, 3, 4, 5, 6]"
            ]
          },
          "metadata": {
            "tags": []
          },
          "execution_count": 100
        }
      ]
    },
    {
      "cell_type": "code",
      "metadata": {
        "colab": {
          "base_uri": "https://localhost:8080/"
        },
        "id": "fyTxx1lolo2Z",
        "outputId": "a8717012-1c9b-43de-c9f7-bbe83af61f9d"
      },
      "source": [
        "x = [1, 2, 3]\r\n",
        "x"
      ],
      "execution_count": 101,
      "outputs": [
        {
          "output_type": "execute_result",
          "data": {
            "text/plain": [
              "[1, 2, 3]"
            ]
          },
          "metadata": {
            "tags": []
          },
          "execution_count": 101
        }
      ]
    },
    {
      "cell_type": "code",
      "metadata": {
        "colab": {
          "base_uri": "https://localhost:8080/"
        },
        "id": "vRUL5jX5l2md",
        "outputId": "3021366d-b2cf-43c5-83ac-2ee35f0f6b19"
      },
      "source": [
        "y = x + [4, 5, 6]\r\n",
        "y"
      ],
      "execution_count": 102,
      "outputs": [
        {
          "output_type": "execute_result",
          "data": {
            "text/plain": [
              "[1, 2, 3, 4, 5, 6]"
            ]
          },
          "metadata": {
            "tags": []
          },
          "execution_count": 102
        }
      ]
    },
    {
      "cell_type": "code",
      "metadata": {
        "colab": {
          "base_uri": "https://localhost:8080/"
        },
        "id": "vg9LnILAl7u4",
        "outputId": "a10b7d1e-96c9-45d5-eaa4-5347c119a348"
      },
      "source": [
        "x.append(0)\r\n",
        "x"
      ],
      "execution_count": 103,
      "outputs": [
        {
          "output_type": "execute_result",
          "data": {
            "text/plain": [
              "[1, 2, 3, 0]"
            ]
          },
          "metadata": {
            "tags": []
          },
          "execution_count": 103
        }
      ]
    },
    {
      "cell_type": "code",
      "metadata": {
        "colab": {
          "base_uri": "https://localhost:8080/"
        },
        "id": "QFKxYrv9mDMi",
        "outputId": "ae290700-7f9e-4c6a-94f8-0c65267e3612"
      },
      "source": [
        "y = x[-1]\r\n",
        "y"
      ],
      "execution_count": 104,
      "outputs": [
        {
          "output_type": "execute_result",
          "data": {
            "text/plain": [
              "0"
            ]
          },
          "metadata": {
            "tags": []
          },
          "execution_count": 104
        }
      ]
    },
    {
      "cell_type": "code",
      "metadata": {
        "colab": {
          "base_uri": "https://localhost:8080/"
        },
        "id": "Fx6a4V-XmJfZ",
        "outputId": "593a0ba9-a3cb-4195-e400-5891c3c4e100"
      },
      "source": [
        "z = len(x)\r\n",
        "z"
      ],
      "execution_count": 105,
      "outputs": [
        {
          "output_type": "execute_result",
          "data": {
            "text/plain": [
              "4"
            ]
          },
          "metadata": {
            "tags": []
          },
          "execution_count": 105
        }
      ]
    },
    {
      "cell_type": "code",
      "metadata": {
        "id": "Pz4rESAYmOmL"
      },
      "source": [
        "x, y = [1, 2]"
      ],
      "execution_count": 106,
      "outputs": []
    },
    {
      "cell_type": "code",
      "metadata": {
        "colab": {
          "base_uri": "https://localhost:8080/"
        },
        "id": "zfN6eJOzmWB8",
        "outputId": "9479c6b2-247e-4b8d-fbca-d3b3be94ab4e"
      },
      "source": [
        "x"
      ],
      "execution_count": 107,
      "outputs": [
        {
          "output_type": "execute_result",
          "data": {
            "text/plain": [
              "1"
            ]
          },
          "metadata": {
            "tags": []
          },
          "execution_count": 107
        }
      ]
    },
    {
      "cell_type": "code",
      "metadata": {
        "colab": {
          "base_uri": "https://localhost:8080/"
        },
        "id": "r-7AXIjOmWmY",
        "outputId": "65b9a2a1-9608-4efe-87b6-6eaba03179ca"
      },
      "source": [
        "y"
      ],
      "execution_count": 108,
      "outputs": [
        {
          "output_type": "execute_result",
          "data": {
            "text/plain": [
              "2"
            ]
          },
          "metadata": {
            "tags": []
          },
          "execution_count": 108
        }
      ]
    },
    {
      "cell_type": "code",
      "metadata": {
        "id": "VzqtXJC3mXS9"
      },
      "source": [
        "_, y = [1, 2]"
      ],
      "execution_count": 109,
      "outputs": []
    },
    {
      "cell_type": "code",
      "metadata": {
        "id": "0m1Aquejmgj5"
      },
      "source": [
        "my_list = [1, 2]"
      ],
      "execution_count": 110,
      "outputs": []
    },
    {
      "cell_type": "code",
      "metadata": {
        "id": "iMSKo2S-mr6t"
      },
      "source": [
        "my_tuple = (1, 2)"
      ],
      "execution_count": 111,
      "outputs": []
    },
    {
      "cell_type": "code",
      "metadata": {
        "id": "d5hITlkomujc"
      },
      "source": [
        "other_tuple = 3,4"
      ],
      "execution_count": 112,
      "outputs": []
    },
    {
      "cell_type": "code",
      "metadata": {
        "id": "L2gI2KT1myji"
      },
      "source": [
        "my_list[1] = 3"
      ],
      "execution_count": 113,
      "outputs": []
    },
    {
      "cell_type": "code",
      "metadata": {
        "colab": {
          "base_uri": "https://localhost:8080/"
        },
        "id": "10zO7ginm2yh",
        "outputId": "6515f556-5542-4766-e9bb-9e4d1a698d78"
      },
      "source": [
        "try:\r\n",
        "  my_tuple[1] = 3\r\n",
        "except TypeError:\r\n",
        "  print(\"cannot modify a tuple\")"
      ],
      "execution_count": 114,
      "outputs": [
        {
          "output_type": "stream",
          "text": [
            "cannot modify a tuple\n"
          ],
          "name": "stdout"
        }
      ]
    },
    {
      "cell_type": "code",
      "metadata": {
        "id": "d1HFsLxYo3bS"
      },
      "source": [
        "def sum_and_product(x, y):\r\n",
        "  return (x + y), (x * y)"
      ],
      "execution_count": 115,
      "outputs": []
    },
    {
      "cell_type": "code",
      "metadata": {
        "colab": {
          "base_uri": "https://localhost:8080/"
        },
        "id": "woYXqGlvpGU6",
        "outputId": "f264e9f8-db76-467e-fdd4-e42b53c4634f"
      },
      "source": [
        "sp = sum_and_product(2, 3)\r\n",
        "sp"
      ],
      "execution_count": 116,
      "outputs": [
        {
          "output_type": "execute_result",
          "data": {
            "text/plain": [
              "(5, 6)"
            ]
          },
          "metadata": {
            "tags": []
          },
          "execution_count": 116
        }
      ]
    },
    {
      "cell_type": "code",
      "metadata": {
        "id": "nt-0BUsspMvV"
      },
      "source": [
        "s, p = sum_and_product(5, 10)"
      ],
      "execution_count": 117,
      "outputs": []
    },
    {
      "cell_type": "code",
      "metadata": {
        "colab": {
          "base_uri": "https://localhost:8080/"
        },
        "id": "tLAtOOOwpaW7",
        "outputId": "49128eee-eaef-4f0d-f0db-9c5952154d24"
      },
      "source": [
        "s"
      ],
      "execution_count": 118,
      "outputs": [
        {
          "output_type": "execute_result",
          "data": {
            "text/plain": [
              "15"
            ]
          },
          "metadata": {
            "tags": []
          },
          "execution_count": 118
        }
      ]
    },
    {
      "cell_type": "code",
      "metadata": {
        "colab": {
          "base_uri": "https://localhost:8080/"
        },
        "id": "HJN0-IzmpbWM",
        "outputId": "adaedef6-e798-4dec-e904-7434b4ff6182"
      },
      "source": [
        "p"
      ],
      "execution_count": 119,
      "outputs": [
        {
          "output_type": "execute_result",
          "data": {
            "text/plain": [
              "50"
            ]
          },
          "metadata": {
            "tags": []
          },
          "execution_count": 119
        }
      ]
    },
    {
      "cell_type": "code",
      "metadata": {
        "id": "3xpKPO1CpctJ"
      },
      "source": [
        "x, y = 1, 2"
      ],
      "execution_count": 120,
      "outputs": []
    },
    {
      "cell_type": "code",
      "metadata": {
        "colab": {
          "base_uri": "https://localhost:8080/"
        },
        "id": "9yoFhEbopn7q",
        "outputId": "c34dec0b-15bd-4fae-8538-b96c807c0df4"
      },
      "source": [
        "x"
      ],
      "execution_count": 121,
      "outputs": [
        {
          "output_type": "execute_result",
          "data": {
            "text/plain": [
              "1"
            ]
          },
          "metadata": {
            "tags": []
          },
          "execution_count": 121
        }
      ]
    },
    {
      "cell_type": "code",
      "metadata": {
        "colab": {
          "base_uri": "https://localhost:8080/"
        },
        "id": "dyBtnQ1GpovJ",
        "outputId": "d298f4aa-cc3e-4354-8c86-93dce6ff60bf"
      },
      "source": [
        "y"
      ],
      "execution_count": 122,
      "outputs": [
        {
          "output_type": "execute_result",
          "data": {
            "text/plain": [
              "2"
            ]
          },
          "metadata": {
            "tags": []
          },
          "execution_count": 122
        }
      ]
    },
    {
      "cell_type": "code",
      "metadata": {
        "id": "PFJ3oYv-ppb6"
      },
      "source": [
        "x, y = y, x"
      ],
      "execution_count": 123,
      "outputs": []
    },
    {
      "cell_type": "code",
      "metadata": {
        "colab": {
          "base_uri": "https://localhost:8080/"
        },
        "id": "XPcAsFVapt5S",
        "outputId": "9a69f90c-1a76-42a9-aec8-542d3ecee37f"
      },
      "source": [
        "x"
      ],
      "execution_count": 124,
      "outputs": [
        {
          "output_type": "execute_result",
          "data": {
            "text/plain": [
              "2"
            ]
          },
          "metadata": {
            "tags": []
          },
          "execution_count": 124
        }
      ]
    },
    {
      "cell_type": "code",
      "metadata": {
        "colab": {
          "base_uri": "https://localhost:8080/"
        },
        "id": "_EQUdurapuge",
        "outputId": "1831f2d0-f427-4035-a137-af4b47c6a4d7"
      },
      "source": [
        "y"
      ],
      "execution_count": 125,
      "outputs": [
        {
          "output_type": "execute_result",
          "data": {
            "text/plain": [
              "1"
            ]
          },
          "metadata": {
            "tags": []
          },
          "execution_count": 125
        }
      ]
    },
    {
      "cell_type": "code",
      "metadata": {
        "id": "-Mt08YLMpvFR"
      },
      "source": [
        ""
      ],
      "execution_count": 125,
      "outputs": []
    },
    {
      "cell_type": "markdown",
      "metadata": {
        "id": "99YqxFtmvgm7"
      },
      "source": [
        "#Capítulo 3 - Visualizando dados\r\n",
        "## Matplotlib"
      ]
    },
    {
      "cell_type": "code",
      "metadata": {
        "id": "5xfvJyDrvrIg"
      },
      "source": [
        "from matplotlib import pyplot as plt"
      ],
      "execution_count": 126,
      "outputs": []
    },
    {
      "cell_type": "code",
      "metadata": {
        "id": "VRyym14bvwDB"
      },
      "source": [
        "years = [1950, 1960, 1970, 1980, 1990, 2000, 2010]"
      ],
      "execution_count": 127,
      "outputs": []
    },
    {
      "cell_type": "code",
      "metadata": {
        "id": "TF0qR0WGwV3y"
      },
      "source": [
        "gdp = [300.2, 543.3, 1075.9, 2862.5, 5079.6, 10289.7, 14958.3]"
      ],
      "execution_count": 128,
      "outputs": []
    },
    {
      "cell_type": "code",
      "metadata": {
        "colab": {
          "base_uri": "https://localhost:8080/",
          "height": 0
        },
        "id": "qTK78siXwYE6",
        "outputId": "5b7bf405-a6e4-4e2e-e73b-213be85e0983"
      },
      "source": [
        "#cria grafico de linha, anos no eixo x, gdp no eixo y\r\n",
        "plt.plot(years, gdp, color='green', marker='o', linestyle='solid')\r\n",
        "#adiciona um título\r\n",
        "plt.title(\"GDP Nominal\")\r\n",
        "\r\n",
        "#adiciona um selo no eixo y\r\n",
        "plt.ylabel(\"Bilhões de $\")\r\n",
        "plt.show"
      ],
      "execution_count": 129,
      "outputs": [
        {
          "output_type": "execute_result",
          "data": {
            "text/plain": [
              "<function matplotlib.pyplot.show>"
            ]
          },
          "metadata": {
            "tags": []
          },
          "execution_count": 129
        },
        {
          "output_type": "display_data",
          "data": {
            "image/png": "[encoded data removed]",
            "text/plain": [
              "<Figure size 432x288 with 1 Axes>"
            ]
          },
          "metadata": {
            "tags": [],
            "needs_background": "light"
          }
        }
      ]
    },
    {
      "cell_type": "code",
      "metadata": {
        "id": "mHPz76djwanY"
      },
      "source": [
        "movies = [\"Annie Hall\", \"Ben-Hur\", \"Casablanca\", \"Gangdhi\", \"West Side Story\"]"
      ],
      "execution_count": 130,
      "outputs": []
    },
    {
      "cell_type": "code",
      "metadata": {
        "id": "blHJI7FhwdKg"
      },
      "source": [
        "num_oscars = [5, 11, 3, 8, 10]"
      ],
      "execution_count": 131,
      "outputs": []
    },
    {
      "cell_type": "code",
      "metadata": {
        "id": "usJI7joNwfEy"
      },
      "source": [
        "xs = [i + 0.1 for i, _ in enumerate(movies)]"
      ],
      "execution_count": 132,
      "outputs": []
    },
    {
      "cell_type": "code",
      "metadata": {
        "colab": {
          "base_uri": "https://localhost:8080/",
          "height": 0
        },
        "id": "xY0v6lFiwhFs",
        "outputId": "d0243d0b-d324-484d-9470-d92750f1e8c2"
      },
      "source": [
        "plt.bar(xs, num_oscars)\r\n",
        "plt.ylabel(\"# de Premiações\")\r\n",
        "plt.title(\"Meus filmes favoritos\")\r\n",
        "plt.xticks([i + 0.5 for i, _ in enumerate(movies)], movies)\r\n",
        "plt.show()"
      ],
      "execution_count": 133,
      "outputs": [
        {
          "output_type": "display_data",
          "data": {
            "image/png": "[encoded data removed]",
            "text/plain": [
              "<Figure size 432x288 with 1 Axes>"
            ]
          },
          "metadata": {
            "tags": [],
            "needs_background": "light"
          }
        }
      ]
    },
    {
      "cell_type": "code",
      "metadata": {
        "id": "5dMxZHRxwi-y"
      },
      "source": [
        "grades = [83, 95, 91, 87, 70, 0, 85, 82, 100, 67, 73, 77, 0]"
      ],
      "execution_count": 134,
      "outputs": []
    },
    {
      "cell_type": "code",
      "metadata": {
        "id": "2rCCyASnwrWj"
      },
      "source": [
        "decile = lambda grade: grade // 10 * 10"
      ],
      "execution_count": 135,
      "outputs": []
    },
    {
      "cell_type": "code",
      "metadata": {
        "id": "X7hLon7Kws-m"
      },
      "source": [
        "from collections import Counter"
      ],
      "execution_count": 136,
      "outputs": []
    },
    {
      "cell_type": "code",
      "metadata": {
        "id": "6Je4mI14w4Jb"
      },
      "source": [
        "histogram = Counter(decile(grade) for grade in grades)"
      ],
      "execution_count": 137,
      "outputs": []
    },
    {
      "cell_type": "code",
      "metadata": {
        "colab": {
          "base_uri": "https://localhost:8080/",
          "height": 0
        },
        "id": "4EShLyUtw6Si",
        "outputId": "8827e9d7-dcc0-4ff0-8b6f-6f53282e9b68"
      },
      "source": [
        " plt.bar([ x - 4 for x in histogram.keys()],\r\n",
        "         histogram.values(),\r\n",
        "         8)\r\n",
        "plt.axis([-5, 105, 0, 5])\r\n",
        "plt.xticks([10 * i for i in range(11)])\r\n",
        "plt.xlabel(\"Decil\")\r\n",
        "plt.ylabel(\"# de Alunos\")\r\n",
        "plt.title(\"Distribuição das Notas do Teste 1\")\r\n",
        "plt.show()"
      ],
      "execution_count": 138,
      "outputs": [
        {
          "output_type": "display_data",
          "data": {
            "image/png": "[encoded data removed]",
            "text/plain": [
              "<Figure size 432x288 with 1 Axes>"
            ]
          },
          "metadata": {
            "tags": [],
            "needs_background": "light"
          }
        }
      ]
    },
    {
      "cell_type": "code",
      "metadata": {
        "id": "FbEvIhiNw8pE"
      },
      "source": [
        "mentions = [500, 505]\r\n",
        "years = [2013, 2014]"
      ],
      "execution_count": 139,
      "outputs": []
    },
    {
      "cell_type": "code",
      "metadata": {
        "colab": {
          "base_uri": "https://localhost:8080/",
          "height": 0
        },
        "id": "cjYnmjsKw-6c",
        "outputId": "62e95ddc-5690-4c8a-c88c-e84ead5febac"
      },
      "source": [
        "plt.bar([2012.6, 2013.6], mentions, 0.8)\r\n",
        "plt.xticks(years)\r\n",
        "plt.ylabel(\"# de vezes que ouvimos alguém dizer 'data science'\")\r\n",
        "plt.ticklabel_format(useOffset=False)\r\n",
        "plt.axis([2012.5, 2014.5, 499, 506])\r\n",
        "plt.title(\"Olhe o 'Grande' Aumento!\")\r\n",
        "plt.show()"
      ],
      "execution_count": 140,
      "outputs": [
        {
          "output_type": "display_data",
          "data": {
            "image/png": "[encoded data removed]",
            "text/plain": [
              "<Figure size 432x288 with 1 Axes>"
            ]
          },
          "metadata": {
            "tags": [],
            "needs_background": "light"
          }
        }
      ]
    },
    {
      "cell_type": "code",
      "metadata": {
        "colab": {
          "base_uri": "https://localhost:8080/",
          "height": 0
        },
        "id": "xQuM7AYzxCNF",
        "outputId": "2d00c8ba-f69b-434e-da12-57bbbe603342"
      },
      "source": [
        "plt.bar([2012.6, 2013.6], mentions, 0.8)\r\n",
        "plt.xticks(years)\r\n",
        "plt.ylabel(\"# de vezes que ouvimos alguém dizer 'data science'\")\r\n",
        "plt.ticklabel_format(useOffset=False)\r\n",
        "\r\n",
        "plt.axis([2012.5, 2014.5, 0, 550])\r\n",
        "plt.title(\"Não tão grande agora\")\r\n",
        "plt.show()"
      ],
      "execution_count": 141,
      "outputs": [
        {
          "output_type": "display_data",
          "data": {
            "image/png": "[encoded data removed]",
            "text/plain": [
              "<Figure size 432x288 with 1 Axes>"
            ]
          },
          "metadata": {
            "tags": [],
            "needs_background": "light"
          }
        }
      ]
    },
    {
      "cell_type": "code",
      "metadata": {
        "colab": {
          "base_uri": "https://localhost:8080/",
          "height": 0
        },
        "id": "CUX2JHGMxEWI",
        "outputId": "dd5b18d1-bb85-4d3f-8001-f28d7a34b695"
      },
      "source": [
        "variance = [1, 2, 4, 8, 16, 32, 64, 128, 256]\r\n",
        "bias_squared = [256, 128, 64, 32, 16, 8, 4, 2, 1]\r\n",
        "total_error = [x + y for x, y in zip(variance, bias_squared)]\r\n",
        "xs = [i for i, _ in enumerate(variance)]\r\n",
        "\r\n",
        "plt.plot(xs, variance, 'g-', label='variance')\r\n",
        "plt.plot(xs, bias_squared, 'r-', label='bias^2')\r\n",
        "plt.plot(xs, total_error, 'b:', label='total error')\r\n",
        "\r\n",
        "plt.legend(loc=9)\r\n",
        "plt.xlabel(\"complexidade do modelo\")\r\n",
        "plt.title(\"Compromisso entre polarização e variância\")\r\n",
        "plt.show()"
      ],
      "execution_count": 142,
      "outputs": [
        {
          "output_type": "display_data",
          "data": {
            "image/png": "[encoded data removed]",
            "text/plain": [
              "<Figure size 432x288 with 1 Axes>"
            ]
          },
          "metadata": {
            "tags": [],
            "needs_background": "light"
          }
        }
      ]
    },
    {
      "cell_type": "code",
      "metadata": {
        "colab": {
          "base_uri": "https://localhost:8080/",
          "height": 0
        },
        "id": "qzW85zx9xGov",
        "outputId": "b370b78f-1e93-4241-c17e-c2e3e4c51b87"
      },
      "source": [
        "friends = [70, 65 , 72, 63, 71, 64, 60, 64, 67]\r\n",
        "minutes = [175, 170, 205, 120, 220, 130, 105, 145, 190]\r\n",
        "labels = ['a', 'b', 'c', 'd', 'e', 'f', 'g', 'h', 'i']\r\n",
        "\r\n",
        "plt.scatter(friends, minutes)\r\n",
        "\r\n",
        "for label, friend_count, minute_count in zip(labels, friends, minutes):\r\n",
        "  plt.annotate(label,\r\n",
        "               xy = (friend_count, minute_count),\r\n",
        "               xytext = (5, -5),\r\n",
        "               textcoords = 'offset points')\r\n",
        "  \r\n",
        "plt.title(\"Minutos diários vs Número de amigos\")\r\n",
        "\r\n",
        "plt.xlabel(\"# de amigos\")\r\n",
        "plt.ylabel(\"minutos diários passados no site\")\r\n",
        "plt.show()"
      ],
      "execution_count": 143,
      "outputs": [
        {
          "output_type": "display_data",
          "data": {
            "image/png": "[encoded data removed]",
            "text/plain": [
              "<Figure size 432x288 with 1 Axes>"
            ]
          },
          "metadata": {
            "tags": [],
            "needs_background": "light"
          }
        }
      ]
    },
    {
      "cell_type": "code",
      "metadata": {
        "colab": {
          "base_uri": "https://localhost:8080/",
          "height": 0
        },
        "id": "oXyAJ5dsxJEe",
        "outputId": "01b2a9c8-fa25-47ee-f1f5-0ead99baa383"
      },
      "source": [
        "text_1_grades = [99, 90, 85, 97, 80]\r\n",
        "text_2_grades = [100, 85, 60, 90, 70]\r\n",
        "\r\n",
        "plt.scatter(text_1_grades, text_2_grades)\r\n",
        "plt.title(\"Os eixos não são compatíveis\")\r\n",
        "plt.xlabel(\"Nota do teste 2\")\r\n",
        "plt.ylabel(\"Nota do teste 1\")\r\n",
        "plt.show()"
      ],
      "execution_count": 144,
      "outputs": [
        {
          "output_type": "display_data",
          "data": {
            "image/png": "[encoded data removed]",
            "text/plain": [
              "<Figure size 432x288 with 1 Axes>"
            ]
          },
          "metadata": {
            "tags": [],
            "needs_background": "light"
          }
        }
      ]
    },
    {
      "cell_type": "markdown",
      "metadata": {
        "id": "vgx1iXmkxZhJ"
      },
      "source": [
        "#Capítulo 4 - Álgebra Linear\r\n",
        "Vetores\r\n",
        "\r\n",
        "Os vetores são objetos que podem ser somados juntos (para formar vetores novos) e que podem ser multiplicados pelos escalares (por exemplo, números), também para formar vetores novos. Os vetores são pontos em algum espaço de dimensão finita.\r\n",
        "\r\n",
        "Usar listas para vetores é bom para a exposição, mas terrível para o desempenho.\r\n",
        "Na produção de código, você pode usar a biblioteca NumPu, que inclui uma classe de array de alta performance com todos os tipos de operações matemáticas inclusas.\r\n",
        "\r\n",
        "Matrizes\r\n",
        "\r\n",
        "Uma matriz é uma coleção de números bidimensional. Representaresmos matrizes como listas de listas, com cada lista interior possuindo o mesmo tamanho e representando uma linha da matriz.\r\n",
        "\r\n",
        "Na matemática normalmente nomearíamos a primeira linha da matriz de \"linha 1\" e a primeira coluna de \"coluna 1\". Já que estamos representando matrizes com as listas de python, que são indexadas em zero, chamaremos a primeira linha de \"linha 0\" e a primeira coluna de \"coluna 0\"."
      ]
    },
    {
      "cell_type": "code",
      "metadata": {
        "colab": {
          "base_uri": "https://localhost:8080/"
        },
        "id": "wQpL-HC9xLP9",
        "outputId": "319279ad-627e-46f6-86d0-207a8aff9485"
      },
      "source": [
        "#Uma lista de três números corresponde a um vetor em um espaço tridimensional, e vice-versa\r\n",
        "height_weight_age = [70, # polegadas\r\n",
        "                     170, # quilos\r\n",
        "                     40 # anos\r\n",
        "                     ]\r\n",
        "height_weight_age"
      ],
      "execution_count": 145,
      "outputs": [
        {
          "output_type": "execute_result",
          "data": {
            "text/plain": [
              "[70, 170, 40]"
            ]
          },
          "metadata": {
            "tags": []
          },
          "execution_count": 145
        }
      ]
    },
    {
      "cell_type": "code",
      "metadata": {
        "colab": {
          "base_uri": "https://localhost:8080/"
        },
        "id": "WtpiaD4nx-wM",
        "outputId": "42e752b0-af6b-4a53-ef36-0a5d4f908932"
      },
      "source": [
        "grades = [95, # teste1\r\n",
        "          80, # teste2\r\n",
        "          75, # teste3\r\n",
        "          62 # teste4\r\n",
        "          ]\r\n",
        "grades        "
      ],
      "execution_count": 146,
      "outputs": [
        {
          "output_type": "execute_result",
          "data": {
            "text/plain": [
              "[95, 80, 75, 62]"
            ]
          },
          "metadata": {
            "tags": []
          },
          "execution_count": 146
        }
      ]
    },
    {
      "cell_type": "code",
      "metadata": {
        "id": "ak5Z0gOSyBLT"
      },
      "source": [
        "def vector_add(v, w):\r\n",
        "  \"\"\"soma elementos correspondentes\"\"\"\r\n",
        "  return [v_i + w_i\r\n",
        "          for v_i, w_i in zip(v, w)]"
      ],
      "execution_count": 147,
      "outputs": []
    },
    {
      "cell_type": "code",
      "metadata": {
        "id": "CfPkOhc-yDDL"
      },
      "source": [
        "def vector_subtract(v, w):\r\n",
        "  \"\"\"subtrai elementos correspondentes\"\"\"\r\n",
        "  return [v_i - w_i\r\n",
        "          for v_i, w_i in zip(v, w)]"
      ],
      "execution_count": 148,
      "outputs": []
    },
    {
      "cell_type": "code",
      "metadata": {
        "id": "gW4xMD8dyEs0"
      },
      "source": [
        "def vector_sum(vectors):\r\n",
        "  \"\"\"soma todos elementos correspondentes\"\"\"\r\n",
        "  result = vectors[0] # começa com o primeiro vetor\r\n",
        "  for vector in vectors[1:]: # depois passa por todos os outros\r\n",
        "    result = vector_add(result, vector) # e os adiciona ao resultado\r\n",
        "  return result"
      ],
      "execution_count": 149,
      "outputs": []
    },
    {
      "cell_type": "code",
      "metadata": {
        "id": "epn_FAp0yGau"
      },
      "source": [
        "def vector_sum(vectors):\r\n",
        "  return reduce(vector_add, vectors)"
      ],
      "execution_count": 150,
      "outputs": []
    },
    {
      "cell_type": "code",
      "metadata": {
        "id": "BL1NW8ZdyIIj"
      },
      "source": [
        "def scalar_multiply(c, v):\r\n",
        "  \"\"\"c é um número, v é um vetor\"\"\"\r\n",
        "  return [c * v_i for v_i in v]"
      ],
      "execution_count": 151,
      "outputs": []
    },
    {
      "cell_type": "code",
      "metadata": {
        "id": "BQfnBbOUyJxz"
      },
      "source": [
        " def vector_mean(vectors):\r\n",
        "   \"\"\"computar o vetor cujo i-ésimo elemento seja a média  dos \r\n",
        "   i-ésimos elementos dos vetores inclusos\"\"\"\r\n",
        "   n = len(vectors)\r\n",
        "   return scalar_multiply(1/n, vector_sum(vectors))"
      ],
      "execution_count": 152,
      "outputs": []
    },
    {
      "cell_type": "code",
      "metadata": {
        "id": "5u1KVkffyLXc"
      },
      "source": [
        "def dot(v, w):\r\n",
        "  \"\"\"v_1 * w_1 + ... v_n * w_n\"\"\"\r\n",
        "  return sum(v_i * w_i\r\n",
        "             for v_i, w_i in zip(v, w))"
      ],
      "execution_count": 153,
      "outputs": []
    },
    {
      "cell_type": "code",
      "metadata": {
        "id": "FnZ6o-WOyM0E"
      },
      "source": [
        "def sum_of_squares(v):\r\n",
        "  \"\"\"v_1 * v_1 + ... + v_n * v_n\"\"\"\r\n",
        "  return dot(v, v)"
      ],
      "execution_count": 154,
      "outputs": []
    },
    {
      "cell_type": "code",
      "metadata": {
        "id": "qyaCTzhjyOkb"
      },
      "source": [
        "import math\r\n",
        "def magnitude(v):\r\n",
        "  return math.sqrt(sum_of_squares(v)) # math.sqrt é a função de raiz quadrada"
      ],
      "execution_count": 155,
      "outputs": []
    },
    {
      "cell_type": "code",
      "metadata": {
        "id": "xzzcln6myQP-"
      },
      "source": [
        "def squared_distance(v, w):\r\n",
        "  \"\"\"(v_1 - w_1) ** 2 + ... + (v_n - w_n) ** 2\"\"\"\r\n",
        "  return (sum_of_squares(vector_subtract(v, w)))"
      ],
      "execution_count": 156,
      "outputs": []
    },
    {
      "cell_type": "code",
      "metadata": {
        "id": "ta9XCjcLyR1L"
      },
      "source": [
        "def distance(v, w):\r\n",
        "  return math.sqrt(squared_distance(v, w))"
      ],
      "execution_count": 157,
      "outputs": []
    },
    {
      "cell_type": "code",
      "metadata": {
        "id": "KR9l1QLqyTiM"
      },
      "source": [
        "def distance(v, w):\r\n",
        "  return magnitude(vector_subtract(v, w))"
      ],
      "execution_count": 158,
      "outputs": []
    },
    {
      "cell_type": "code",
      "metadata": {
        "id": "87_HybwHyU9D"
      },
      "source": [
        "A = [[1, 2, 3], # A possui duas linhas e três colunas\r\n",
        "     [4, 5, 6]\r\n",
        "     ]"
      ],
      "execution_count": 159,
      "outputs": []
    },
    {
      "cell_type": "code",
      "metadata": {
        "id": "C-71EhnHyW50"
      },
      "source": [
        "B = [[1, 2], # B possui três linhas e duas colunas \r\n",
        "     [3, 4],\r\n",
        "     [5, 6]\r\n",
        "     ]"
      ],
      "execution_count": 160,
      "outputs": []
    },
    {
      "cell_type": "code",
      "metadata": {
        "id": "IHoY990VyZJH"
      },
      "source": [
        "def shape(A):\r\n",
        "  num_rows = len(A)\r\n",
        "  num_cols = len(A[0]) if A else 0 # número de elementos na primeira linha\r\n",
        "  return num_rows, num_cols"
      ],
      "execution_count": 161,
      "outputs": []
    },
    {
      "cell_type": "code",
      "metadata": {
        "id": "jw6qfBN9ybDl"
      },
      "source": [
        "def get_row(A, i):\r\n",
        "  return A[i] # A[i] já é da linha é a linha i-ésimo"
      ],
      "execution_count": 162,
      "outputs": []
    },
    {
      "cell_type": "code",
      "metadata": {
        "id": "U4Dbu8xpydfl"
      },
      "source": [
        "def get_column(A, j):\r\n",
        "  return [A_i[j] # j-ésimo elemento da linha A_i\r\n",
        "          for A_i in A] # para cada linha A_i"
      ],
      "execution_count": 163,
      "outputs": []
    },
    {
      "cell_type": "code",
      "metadata": {
        "id": "FOW6jUnTye1c"
      },
      "source": [
        "def make_matrix(num_rows, num_cols, entry_fn):\r\n",
        "  \"\"\"retorna a matriz num_rows x num_cols\r\n",
        "  cuja entrada (i, j)th é entry_fn(i, j)\"\"\"\r\n",
        "  return [[entry_fn(i, j) # dado i, cria uma lista\r\n",
        "  for j in range(num_cols)] # [entry_fn(i, 0), ...]\r\n",
        "  for i in range(num_rows)] # cria uma lista para cada i"
      ],
      "execution_count": 164,
      "outputs": []
    },
    {
      "cell_type": "code",
      "metadata": {
        "id": "OsMTvAbCygYr"
      },
      "source": [
        "def is_diagonal(i, j):\r\n",
        "  \"\"\"i's na diagonal, 0's nos demais lugares\"\"\"\r\n",
        "  return 1 if i == j else 0"
      ],
      "execution_count": 165,
      "outputs": []
    },
    {
      "cell_type": "code",
      "metadata": {
        "id": "Ux94HHP0yh0t"
      },
      "source": [
        "friends_of_five = [i # somente precisamos \r\n",
        "                   for i, is_friend in enumerate(friendships[5]) # olhar para\r\n",
        "                   if is_friend] # uma linha"
      ],
      "execution_count": 166,
      "outputs": []
    },
    {
      "cell_type": "markdown",
      "metadata": {
        "id": "KCe4XAHdSHR7"
      },
      "source": [
        "#Capítulo 5 - Estatística\r\n",
        "Os fatos são teimosos, mas as estatísticas são mais maleáveis - Mark Twain\r\n",
        "\r\n",
        "A estatística se refere à matemática e às técnicas com as quais entendemos os dados."
      ]
    },
    {
      "cell_type": "code",
      "metadata": {
        "id": "H9sfm43bUdQe"
      },
      "source": [
        "num_friends = [100, 49, 41, 40, 25, 20, 19, 18, 17, 16,\r\n",
        "               2, 1, 1, 3, 10, 20, 12, 1, 9, 1,\r\n",
        "               2, 1, 5, 3, 10, 2, 13, 1, 9, 2,\r\n",
        "               3, 1, 1, 2, 10, 2, 14, 1, 9, 3,\r\n",
        "               3, 1, 6, 6, 10, 2, 14, 1, 9, 4,\r\n",
        "               4, 1, 6, 7, 6, 2, 14, 1, 9, 5,\r\n",
        "               4, 1, 1, 7, 6, 2, 14, 4, 9, 4,\r\n",
        "               5, 1, 4, 7, 10, 2, 15, 3, 8, 7,\r\n",
        "               5, 1, 4, 7, 6, 2, 15, 3, 8, 8,\r\n",
        "               6, 6, 4, 7, 6, 2, 6, 2, 10, 9,\r\n",
        "               6, 6, 4, 7, 6, 2, 5, 11, 10, 1,\r\n",
        "               7, 6, 4, 8, 11, 3, 6, 8, 10, 2,\r\n",
        "               7, 6, 4, 8, 11, 3, 6, 8, 10, 3,\r\n",
        "               8, 6, 4, 8, 11, 3, 15, 6, 10, 4,\r\n",
        "               8, 6, 4, 8, 11, 3, 15, 8, 10, 5,\r\n",
        "               9, 6, 4, 8, 11, 3, 15, 4, 1, 3,\r\n",
        "               9, 6, 4, 8, 11, 4, 5, 12, 2, 7,\r\n",
        "               10, 6, 1, 8, 12, 4, 5, 13, 3, 8,\r\n",
        "               10, 6, 1, 9, 12, 4, 5, 14, 4, 9,\r\n",
        "               11, 6, 1, 9, 12, 4, 5, 2, 5, 1,\r\n",
        "               11, 1, 1, 9]"
      ],
      "execution_count": 167,
      "outputs": []
    },
    {
      "cell_type": "code",
      "metadata": {
        "colab": {
          "base_uri": "https://localhost:8080/",
          "height": 0
        },
        "id": "zsUtQiWvSQAc",
        "outputId": "68db7448-9ff3-4b71-d777-e37245ffac9d"
      },
      "source": [
        "friend_counts = Counter(num_friends)\r\n",
        "xs = range(101) # o valor maior é 100\r\n",
        "ys = [friend_counts[x] for x in xs] # a altura é somente # de amigos\r\n",
        "plt.bar(xs, ys)\r\n",
        "plt.axis([0, 101, 0, 25])\r\n",
        "plt.title(\"Histograma da Contagem de Amigos\")\r\n",
        "plt.xlabel(\"# de amigos\")\r\n",
        "plt.ylabel(\"# de pessoas\")\r\n",
        "plt.show()"
      ],
      "execution_count": 168,
      "outputs": [
        {
          "output_type": "display_data",
          "data": {
            "image/png": "[encoded data removed]",
            "text/plain": [
              "<Figure size 432x288 with 1 Axes>"
            ]
          },
          "metadata": {
            "tags": [],
            "needs_background": "light"
          }
        }
      ]
    },
    {
      "cell_type": "code",
      "metadata": {
        "colab": {
          "base_uri": "https://localhost:8080/"
        },
        "id": "ecUbskNGT5gu",
        "outputId": "82448c25-76b8-4a9e-c1b3-3b87bc49957a"
      },
      "source": [
        "num_points = len(num_friends)\r\n",
        "num_points"
      ],
      "execution_count": 169,
      "outputs": [
        {
          "output_type": "execute_result",
          "data": {
            "text/plain": [
              "204"
            ]
          },
          "metadata": {
            "tags": []
          },
          "execution_count": 169
        }
      ]
    },
    {
      "cell_type": "code",
      "metadata": {
        "colab": {
          "base_uri": "https://localhost:8080/"
        },
        "id": "XXPfR-JwWIqE",
        "outputId": "7c647b9f-5b95-4875-e3f4-cf9dfa2beddc"
      },
      "source": [
        "largest_value = max(num_friends)\r\n",
        "largest_value"
      ],
      "execution_count": 170,
      "outputs": [
        {
          "output_type": "execute_result",
          "data": {
            "text/plain": [
              "100"
            ]
          },
          "metadata": {
            "tags": []
          },
          "execution_count": 170
        }
      ]
    },
    {
      "cell_type": "code",
      "metadata": {
        "colab": {
          "base_uri": "https://localhost:8080/"
        },
        "id": "u2YGLsLKWN_A",
        "outputId": "7ba8488b-7193-456e-9c35-bbab20361c8f"
      },
      "source": [
        "smallest_value = min(num_friends)\r\n",
        "smallest_value"
      ],
      "execution_count": 171,
      "outputs": [
        {
          "output_type": "execute_result",
          "data": {
            "text/plain": [
              "1"
            ]
          },
          "metadata": {
            "tags": []
          },
          "execution_count": 171
        }
      ]
    },
    {
      "cell_type": "code",
      "metadata": {
        "colab": {
          "base_uri": "https://localhost:8080/"
        },
        "id": "qZe5PJNFWV6O",
        "outputId": "6cec53ec-d3bc-4782-c441-32c7e0496149"
      },
      "source": [
        "sorted_values = sorted(num_friends)\r\n",
        "sorted_values"
      ],
      "execution_count": 172,
      "outputs": [
        {
          "output_type": "execute_result",
          "data": {
            "text/plain": [
              "[1,\n",
              " 1,\n",
              " 1,\n",
              " 1,\n",
              " 1,\n",
              " 1,\n",
              " 1,\n",
              " 1,\n",
              " 1,\n",
              " 1,\n",
              " 1,\n",
              " 1,\n",
              " 1,\n",
              " 1,\n",
              " 1,\n",
              " 1,\n",
              " 1,\n",
              " 1,\n",
              " 1,\n",
              " 1,\n",
              " 1,\n",
              " 1,\n",
              " 1,\n",
              " 1,\n",
              " 1,\n",
              " 2,\n",
              " 2,\n",
              " 2,\n",
              " 2,\n",
              " 2,\n",
              " 2,\n",
              " 2,\n",
              " 2,\n",
              " 2,\n",
              " 2,\n",
              " 2,\n",
              " 2,\n",
              " 2,\n",
              " 2,\n",
              " 2,\n",
              " 2,\n",
              " 2,\n",
              " 3,\n",
              " 3,\n",
              " 3,\n",
              " 3,\n",
              " 3,\n",
              " 3,\n",
              " 3,\n",
              " 3,\n",
              " 3,\n",
              " 3,\n",
              " 3,\n",
              " 3,\n",
              " 3,\n",
              " 3,\n",
              " 3,\n",
              " 4,\n",
              " 4,\n",
              " 4,\n",
              " 4,\n",
              " 4,\n",
              " 4,\n",
              " 4,\n",
              " 4,\n",
              " 4,\n",
              " 4,\n",
              " 4,\n",
              " 4,\n",
              " 4,\n",
              " 4,\n",
              " 4,\n",
              " 4,\n",
              " 4,\n",
              " 4,\n",
              " 4,\n",
              " 4,\n",
              " 4,\n",
              " 4,\n",
              " 5,\n",
              " 5,\n",
              " 5,\n",
              " 5,\n",
              " 5,\n",
              " 5,\n",
              " 5,\n",
              " 5,\n",
              " 5,\n",
              " 5,\n",
              " 5,\n",
              " 6,\n",
              " 6,\n",
              " 6,\n",
              " 6,\n",
              " 6,\n",
              " 6,\n",
              " 6,\n",
              " 6,\n",
              " 6,\n",
              " 6,\n",
              " 6,\n",
              " 6,\n",
              " 6,\n",
              " 6,\n",
              " 6,\n",
              " 6,\n",
              " 6,\n",
              " 6,\n",
              " 6,\n",
              " 6,\n",
              " 6,\n",
              " 6,\n",
              " 6,\n",
              " 6,\n",
              " 6,\n",
              " 7,\n",
              " 7,\n",
              " 7,\n",
              " 7,\n",
              " 7,\n",
              " 7,\n",
              " 7,\n",
              " 7,\n",
              " 7,\n",
              " 7,\n",
              " 8,\n",
              " 8,\n",
              " 8,\n",
              " 8,\n",
              " 8,\n",
              " 8,\n",
              " 8,\n",
              " 8,\n",
              " 8,\n",
              " 8,\n",
              " 8,\n",
              " 8,\n",
              " 8,\n",
              " 8,\n",
              " 8,\n",
              " 8,\n",
              " 9,\n",
              " 9,\n",
              " 9,\n",
              " 9,\n",
              " 9,\n",
              " 9,\n",
              " 9,\n",
              " 9,\n",
              " 9,\n",
              " 9,\n",
              " 9,\n",
              " 9,\n",
              " 9,\n",
              " 10,\n",
              " 10,\n",
              " 10,\n",
              " 10,\n",
              " 10,\n",
              " 10,\n",
              " 10,\n",
              " 10,\n",
              " 10,\n",
              " 10,\n",
              " 10,\n",
              " 10,\n",
              " 10,\n",
              " 11,\n",
              " 11,\n",
              " 11,\n",
              " 11,\n",
              " 11,\n",
              " 11,\n",
              " 11,\n",
              " 11,\n",
              " 11,\n",
              " 12,\n",
              " 12,\n",
              " 12,\n",
              " 12,\n",
              " 12,\n",
              " 13,\n",
              " 13,\n",
              " 14,\n",
              " 14,\n",
              " 14,\n",
              " 14,\n",
              " 14,\n",
              " 15,\n",
              " 15,\n",
              " 15,\n",
              " 15,\n",
              " 15,\n",
              " 16,\n",
              " 17,\n",
              " 18,\n",
              " 19,\n",
              " 20,\n",
              " 20,\n",
              " 25,\n",
              " 40,\n",
              " 41,\n",
              " 49,\n",
              " 100]"
            ]
          },
          "metadata": {
            "tags": []
          },
          "execution_count": 172
        }
      ]
    },
    {
      "cell_type": "code",
      "metadata": {
        "colab": {
          "base_uri": "https://localhost:8080/"
        },
        "id": "X3SD8q5qW6Yy",
        "outputId": "af192b94-8d48-4d88-f931-797084bbcc93"
      },
      "source": [
        "smallest_value = sorted_values[0]\r\n",
        "smallest_value"
      ],
      "execution_count": 173,
      "outputs": [
        {
          "output_type": "execute_result",
          "data": {
            "text/plain": [
              "1"
            ]
          },
          "metadata": {
            "tags": []
          },
          "execution_count": 173
        }
      ]
    },
    {
      "cell_type": "code",
      "metadata": {
        "colab": {
          "base_uri": "https://localhost:8080/"
        },
        "id": "hiEZd9MAXDYH",
        "outputId": "e3798613-abb0-47ea-fd84-650b836e16f0"
      },
      "source": [
        "second_smallest_value = sorted_values[1]\r\n",
        "second_smallest_value"
      ],
      "execution_count": 174,
      "outputs": [
        {
          "output_type": "execute_result",
          "data": {
            "text/plain": [
              "1"
            ]
          },
          "metadata": {
            "tags": []
          },
          "execution_count": 174
        }
      ]
    },
    {
      "cell_type": "code",
      "metadata": {
        "colab": {
          "base_uri": "https://localhost:8080/"
        },
        "id": "npcQiZoUXL8e",
        "outputId": "e5ea2624-6a29-4b08-f7f5-99f302b01ede"
      },
      "source": [
        "second_largest_value = sorted_values[-2]\r\n",
        "second_largest_value"
      ],
      "execution_count": 175,
      "outputs": [
        {
          "output_type": "execute_result",
          "data": {
            "text/plain": [
              "49"
            ]
          },
          "metadata": {
            "tags": []
          },
          "execution_count": 175
        }
      ]
    },
    {
      "cell_type": "code",
      "metadata": {
        "id": "W-VS503GXVvI"
      },
      "source": [
        "# não está certo se você não importar a divisão de __future__\r\n",
        "from __future__ import division"
      ],
      "execution_count": 176,
      "outputs": []
    },
    {
      "cell_type": "code",
      "metadata": {
        "id": "r4NIwnbGX_kA"
      },
      "source": [
        "def mean(x):\r\n",
        "  return sum(x) / len(x)"
      ],
      "execution_count": 177,
      "outputs": []
    },
    {
      "cell_type": "code",
      "metadata": {
        "colab": {
          "base_uri": "https://localhost:8080/"
        },
        "id": "jdqEJL5yYQfo",
        "outputId": "335f9ed1-7078-44ea-fd00-52cbfb392466"
      },
      "source": [
        "mean(num_friends)"
      ],
      "execution_count": 178,
      "outputs": [
        {
          "output_type": "execute_result",
          "data": {
            "text/plain": [
              "7.534313725490196"
            ]
          },
          "metadata": {
            "tags": []
          },
          "execution_count": 178
        }
      ]
    },
    {
      "cell_type": "code",
      "metadata": {
        "id": "TuC-DCE7YUAj"
      },
      "source": [
        "def median(v):\r\n",
        "  \"\"\"encontra o valor mais ao meio de v\"\"\"\r\n",
        "  n = len(v)\r\n",
        "  sorted_v = sorted(v)\r\n",
        "  midpoint = n // 2\r\n",
        "\r\n",
        "  if n % 2 == 1:\r\n",
        "    # se for impar, retorna o valor do meio\r\n",
        "    return sorted_v[midpoint]\r\n",
        "  else:\r\n",
        "    # se for par, retorna a média dos valores do meio\r\n",
        "    lo = midpoint -1\r\n",
        "    hi = midpoint\r\n",
        "    return (sorted_v[lo] + sorted_v[hi]) / 2"
      ],
      "execution_count": 179,
      "outputs": []
    },
    {
      "cell_type": "code",
      "metadata": {
        "colab": {
          "base_uri": "https://localhost:8080/"
        },
        "id": "tDjOTp6WZmnb",
        "outputId": "11f4ec30-feb9-417b-9e60-9fb982565868"
      },
      "source": [
        "median(num_friends)"
      ],
      "execution_count": 180,
      "outputs": [
        {
          "output_type": "execute_result",
          "data": {
            "text/plain": [
              "6.0"
            ]
          },
          "metadata": {
            "tags": []
          },
          "execution_count": 180
        }
      ]
    },
    {
      "cell_type": "code",
      "metadata": {
        "id": "dQsYXCxbZpek"
      },
      "source": [
        "def quantile(x, p):\r\n",
        "  \"\"\"retorna o percentual p-ésimo em x\"\"\"\r\n",
        "  p_index = int(p * len(x))\r\n",
        "  return sorted(x)[p_index]\r\n"
      ],
      "execution_count": 181,
      "outputs": []
    },
    {
      "cell_type": "code",
      "metadata": {
        "colab": {
          "base_uri": "https://localhost:8080/"
        },
        "id": "kmT94aIcopW4",
        "outputId": "c1373a0e-8154-43b8-b025-36a16997341d"
      },
      "source": [
        "quantile(num_friends, 0.10)"
      ],
      "execution_count": 182,
      "outputs": [
        {
          "output_type": "execute_result",
          "data": {
            "text/plain": [
              "1"
            ]
          },
          "metadata": {
            "tags": []
          },
          "execution_count": 182
        }
      ]
    },
    {
      "cell_type": "code",
      "metadata": {
        "colab": {
          "base_uri": "https://localhost:8080/"
        },
        "id": "DJWJ7wwdotny",
        "outputId": "4f485db1-b3c9-483c-bbe8-0e43b7c713b2"
      },
      "source": [
        "quantile(num_friends, 0.25)"
      ],
      "execution_count": 183,
      "outputs": [
        {
          "output_type": "execute_result",
          "data": {
            "text/plain": [
              "3"
            ]
          },
          "metadata": {
            "tags": []
          },
          "execution_count": 183
        }
      ]
    },
    {
      "cell_type": "code",
      "metadata": {
        "colab": {
          "base_uri": "https://localhost:8080/"
        },
        "id": "-andGU6lowm1",
        "outputId": "3a167596-cec9-4ac5-b8f0-f5195342504e"
      },
      "source": [
        "quantile(num_friends, 0.75)"
      ],
      "execution_count": 184,
      "outputs": [
        {
          "output_type": "execute_result",
          "data": {
            "text/plain": [
              "9"
            ]
          },
          "metadata": {
            "tags": []
          },
          "execution_count": 184
        }
      ]
    },
    {
      "cell_type": "code",
      "metadata": {
        "colab": {
          "base_uri": "https://localhost:8080/"
        },
        "id": "VbvxkT4ho2ui",
        "outputId": "43acbb65-48af-43af-c3e7-a760e8195f41"
      },
      "source": [
        "quantile(num_friends, 0.90)"
      ],
      "execution_count": 185,
      "outputs": [
        {
          "output_type": "execute_result",
          "data": {
            "text/plain": [
              "14"
            ]
          },
          "metadata": {
            "tags": []
          },
          "execution_count": 185
        }
      ]
    },
    {
      "cell_type": "code",
      "metadata": {
        "id": "b9wCYFrusBhj"
      },
      "source": [
        "# Importei o collections para utilizar o Counter\r\n",
        "import collections"
      ],
      "execution_count": 186,
      "outputs": []
    },
    {
      "cell_type": "code",
      "metadata": {
        "id": "_FkcSATPo431"
      },
      "source": [
        "def mode(x):\r\n",
        "  \"\"\"retorna uma lista, pode haver mais de uma moda\"\"\"\r\n",
        "  counts = Counter(x)\r\n",
        "  max_count = max(counts.values())\r\n",
        "  # return [x_i for x_i, count in counts.iteritems() \r\n",
        "  # alterei o código do livro pelo abaixo para mostrar os valores mais comuns em python 2\r\n",
        "  return [x_i for x_i, count in counts.most_common()\r\n",
        "  if count == max_count]"
      ],
      "execution_count": 187,
      "outputs": []
    },
    {
      "cell_type": "code",
      "metadata": {
        "colab": {
          "base_uri": "https://localhost:8080/"
        },
        "id": "PlSxv_Y0pk77",
        "outputId": "5382a289-d9f3-489c-d854-810f63895500"
      },
      "source": [
        "mode(num_friends)"
      ],
      "execution_count": 188,
      "outputs": [
        {
          "output_type": "execute_result",
          "data": {
            "text/plain": [
              "[1, 6]"
            ]
          },
          "metadata": {
            "tags": []
          },
          "execution_count": 188
        }
      ]
    },
    {
      "cell_type": "code",
      "metadata": {
        "id": "V1QOMV4jpoBm"
      },
      "source": [
        "# \"amplitude\" já possui um significado em Python, então usaremos um nome diferente\r\n",
        "def data_range(x):\r\n",
        "  return max(x) - min(x)"
      ],
      "execution_count": 189,
      "outputs": []
    },
    {
      "cell_type": "code",
      "metadata": {
        "colab": {
          "base_uri": "https://localhost:8080/"
        },
        "id": "XCHlmKrJuHum",
        "outputId": "f62d3e00-6d41-4f9a-8283-49d43c1b1571"
      },
      "source": [
        "data_range(num_friends)"
      ],
      "execution_count": 190,
      "outputs": [
        {
          "output_type": "execute_result",
          "data": {
            "text/plain": [
              "99"
            ]
          },
          "metadata": {
            "tags": []
          },
          "execution_count": 190
        }
      ]
    },
    {
      "cell_type": "code",
      "metadata": {
        "id": "JFvLTvK6uJ8n"
      },
      "source": [
        "def de_mean(x):\r\n",
        "  \"\"\"desloca x ao subtrair sua média (então o resultado tem a média 0)\"\"\"\r\n",
        "  x_bar = mean(x)\r\n",
        "  return [x_i - x_bar for x_i in x]"
      ],
      "execution_count": 191,
      "outputs": []
    },
    {
      "cell_type": "code",
      "metadata": {
        "id": "a6l2nWiUu37b"
      },
      "source": [
        "def variance(x):\r\n",
        "  \"\"\"presume que x tem ao menos dois elementos\"\"\"\r\n",
        "  n = len(x)\r\n",
        "  deviations = de_mean(x)\r\n",
        "  return sum_of_squares(deviations) / (n - 1)"
      ],
      "execution_count": 192,
      "outputs": []
    },
    {
      "cell_type": "code",
      "metadata": {
        "colab": {
          "base_uri": "https://localhost:8080/"
        },
        "id": "aTmCfzTHvMM7",
        "outputId": "1305ddf4-de85-4a2d-aa12-029811895d90"
      },
      "source": [
        "variance(num_friends)"
      ],
      "execution_count": 193,
      "outputs": [
        {
          "output_type": "execute_result",
          "data": {
            "text/plain": [
              "81.92492514247068"
            ]
          },
          "metadata": {
            "tags": []
          },
          "execution_count": 193
        }
      ]
    },
    {
      "cell_type": "code",
      "metadata": {
        "id": "k4w6B9mKvOqj"
      },
      "source": [
        "def standard_deviation(x):\r\n",
        "  return math.sqrt(variance(x))"
      ],
      "execution_count": 194,
      "outputs": []
    },
    {
      "cell_type": "code",
      "metadata": {
        "colab": {
          "base_uri": "https://localhost:8080/"
        },
        "id": "tJ3aA536vy-F",
        "outputId": "865a4d3a-048d-40a4-90a8-00284112a925"
      },
      "source": [
        "standard_deviation(num_friends)"
      ],
      "execution_count": 195,
      "outputs": [
        {
          "output_type": "execute_result",
          "data": {
            "text/plain": [
              "9.051238873351576"
            ]
          },
          "metadata": {
            "tags": []
          },
          "execution_count": 195
        }
      ]
    },
    {
      "cell_type": "code",
      "metadata": {
        "id": "UgNjfxLdv1TX"
      },
      "source": [
        "def interquartile_range(x):\r\n",
        "  return quantile(x, 0.75) - quantile(x, 0.25)"
      ],
      "execution_count": 196,
      "outputs": []
    },
    {
      "cell_type": "code",
      "metadata": {
        "colab": {
          "base_uri": "https://localhost:8080/"
        },
        "id": "LbwU9_ifwIcX",
        "outputId": "11a9a5bc-4b33-4491-bf63-3504d4ffdc86"
      },
      "source": [
        "interquartile_range(num_friends)"
      ],
      "execution_count": 197,
      "outputs": [
        {
          "output_type": "execute_result",
          "data": {
            "text/plain": [
              "6"
            ]
          },
          "metadata": {
            "tags": []
          },
          "execution_count": 197
        }
      ]
    },
    {
      "cell_type": "code",
      "metadata": {
        "id": "4KKL11bHwKL0"
      },
      "source": [
        "def covariance(x, y):\r\n",
        "  n = len(x)\r\n",
        "  return dot(de_mean(x), de_mean(y)) / (n - 1)"
      ],
      "execution_count": 198,
      "outputs": []
    },
    {
      "cell_type": "code",
      "metadata": {
        "colab": {
          "base_uri": "https://localhost:8080/"
        },
        "id": "ib6Vbo0nwtLj",
        "outputId": "bcc915b7-05b2-42e1-ce2d-107d90ebf8f4"
      },
      "source": [
        "covariance(num_friends, minutes)"
      ],
      "execution_count": 199,
      "outputs": [
        {
          "output_type": "execute_result",
          "data": {
            "text/plain": [
              "7.876299945265456"
            ]
          },
          "metadata": {
            "tags": []
          },
          "execution_count": 199
        }
      ]
    },
    {
      "cell_type": "code",
      "metadata": {
        "id": "sLzTDxcww0Od"
      },
      "source": [
        "def correlation(x, y):\r\n",
        "  stdev_x = standard_deviation(x)\r\n",
        "  stdev_y = standard_deviation(y)\r\n",
        "  if stdev_x > 0 and stdev_y > 0:\r\n",
        "    return covariance(x, y) / stdev_x / stdev_y\r\n",
        "  else:\r\n",
        "    return 0 # se não houver amplitude, a correlação é zero"
      ],
      "execution_count": 200,
      "outputs": []
    },
    {
      "cell_type": "code",
      "metadata": {
        "colab": {
          "base_uri": "https://localhost:8080/"
        },
        "id": "tJlYUO5Hypzz",
        "outputId": "a483d37d-3e53-499c-e1d5-f04dccb30b73"
      },
      "source": [
        "correlation(num_friends, minutes)"
      ],
      "execution_count": 201,
      "outputs": [
        {
          "output_type": "execute_result",
          "data": {
            "text/plain": [
              "0.021965507733269555"
            ]
          },
          "metadata": {
            "tags": []
          },
          "execution_count": 201
        }
      ]
    },
    {
      "cell_type": "code",
      "metadata": {
        "id": "MPDKiyfQyv7s"
      },
      "source": [
        "outlier = num_friends.index(100)"
      ],
      "execution_count": 202,
      "outputs": []
    },
    {
      "cell_type": "code",
      "metadata": {
        "id": "DD6M_3pYOluE"
      },
      "source": [
        "num_friends_good = [x\r\n",
        "                    for i, x in enumerate(num_friends)\r\n",
        "                    if i != outlier]"
      ],
      "execution_count": 203,
      "outputs": []
    },
    {
      "cell_type": "code",
      "metadata": {
        "id": "b5PO1FWuO2uP"
      },
      "source": [
        "daily_minutes_good = [x\r\n",
        "                      for i, x in enumerate(minutes)\r\n",
        "                      if i != outlier]"
      ],
      "execution_count": 204,
      "outputs": []
    },
    {
      "cell_type": "code",
      "metadata": {
        "colab": {
          "base_uri": "https://localhost:8080/"
        },
        "id": "tqxQXq5BPRfo",
        "outputId": "6ce92353-7886-43cc-d583-a70502787f1c"
      },
      "source": [
        "correlation(num_friends_good, daily_minutes_good)"
      ],
      "execution_count": 205,
      "outputs": [
        {
          "output_type": "execute_result",
          "data": {
            "text/plain": [
              "0.012821514310882976"
            ]
          },
          "metadata": {
            "tags": []
          },
          "execution_count": 205
        }
      ]
    },
    {
      "cell_type": "markdown",
      "metadata": {
        "id": "KLKWzuzqY1k-"
      },
      "source": [
        "#Capítulo 6 - Probabilidade\r\n",
        "As leis da probabilidade, no geral tão verdadeiras, no particular tão enganosas - Edward Gibbon\r\n",
        "\r\n",
        "A probabilidade é uma forma de quantificar a incerteza associada a eventos escolhidos a partir de um universo deles."
      ]
    },
    {
      "cell_type": "markdown",
      "metadata": {
        "id": "P_Q6wlOlcsPw"
      },
      "source": [
        "##Probabilidade Condicional\r\n",
        "Quando dois eventos E e F são independentes (e a probabilidade de F não for 0), logo definimos a probabilidade e E \"condicionada a F\" assim: \r\n",
        "\r\n",
        "P(E,F) = P(E)P(F)\r\n",
        "\r\n",
        "Se não são necessariamente independentes (e a probabilidade de F não for 0), logo definimos a probabilidade de E \"condicionada\" a F assim:\r\n",
        "\r\n",
        "P(E|F) = P(E,F)/P(F)"
      ]
    },
    {
      "cell_type": "code",
      "metadata": {
        "id": "VnLWJT03ZHSL"
      },
      "source": [
        "def random_kid():\r\n",
        "  return random.choice([\"boy\", \"girl\"])"
      ],
      "execution_count": 206,
      "outputs": []
    },
    {
      "cell_type": "code",
      "metadata": {
        "id": "d-83_FgSeUDg"
      },
      "source": [
        "both_girls = 0\r\n",
        "older_girl = 0\r\n",
        "either_girl = 0"
      ],
      "execution_count": 207,
      "outputs": []
    },
    {
      "cell_type": "code",
      "metadata": {
        "id": "KRZqN7gQfmXs"
      },
      "source": [
        "import random"
      ],
      "execution_count": 208,
      "outputs": []
    },
    {
      "cell_type": "code",
      "metadata": {
        "id": "kuSZeS6eerXw"
      },
      "source": [
        "random.seed(0)\r\n",
        "for _ in range(10000):\r\n",
        "  younger = random_kid()\r\n",
        "  older = random_kid()\r\n",
        "  if older == \"girl\":\r\n",
        "    older_girl += 1\r\n",
        "  if older == \"girl\" and younger == \"girl\":\r\n",
        "    both_girls += 1\r\n",
        "  if older == \"girl\" or younger == \"girl\":\r\n",
        "    either_girl += 1"
      ],
      "execution_count": 209,
      "outputs": []
    },
    {
      "cell_type": "code",
      "metadata": {
        "colab": {
          "base_uri": "https://localhost:8080/"
        },
        "id": "TPdKry0Bfb38",
        "outputId": "3acfaf29-15c2-4569-916c-778ecc93561e"
      },
      "source": [
        "\"P(both | older):\", both_girls / older_girl"
      ],
      "execution_count": 210,
      "outputs": [
        {
          "output_type": "execute_result",
          "data": {
            "text/plain": [
              "('P(both | older):', 0.5007089325501317)"
            ]
          },
          "metadata": {
            "tags": []
          },
          "execution_count": 210
        }
      ]
    },
    {
      "cell_type": "code",
      "metadata": {
        "colab": {
          "base_uri": "https://localhost:8080/"
        },
        "id": "5hyEU-QofzcL",
        "outputId": "7cb998c2-b917-4164-80f5-34a36cd11d1e"
      },
      "source": [
        "\"P(both | eigther):\", both_girls / either_girl"
      ],
      "execution_count": 211,
      "outputs": [
        {
          "output_type": "execute_result",
          "data": {
            "text/plain": [
              "('P(both | eigther):', 0.3311897106109325)"
            ]
          },
          "metadata": {
            "tags": []
          },
          "execution_count": 211
        }
      ]
    },
    {
      "cell_type": "code",
      "metadata": {
        "id": "Suce8ebjgFqV"
      },
      "source": [
        "def uniform_pdf(x):\r\n",
        "  return 1 if x >= 0 and x < 1 else 0"
      ],
      "execution_count": 212,
      "outputs": []
    },
    {
      "cell_type": "code",
      "metadata": {
        "colab": {
          "base_uri": "https://localhost:8080/"
        },
        "id": "YMg2O1k7h5dV",
        "outputId": "2dae92f4-7ab0-4608-daed-a6d672ca2ec0"
      },
      "source": [
        "uniform_pdf(random.random())"
      ],
      "execution_count": 213,
      "outputs": [
        {
          "output_type": "execute_result",
          "data": {
            "text/plain": [
              "1"
            ]
          },
          "metadata": {
            "tags": []
          },
          "execution_count": 213
        }
      ]
    },
    {
      "cell_type": "code",
      "metadata": {
        "id": "x1z86IlGh8_c"
      },
      "source": [
        "def uniform_cdf(x):\r\n",
        "  \"\"\"retorna a probabilidade de uma variável aleatória uniforme ser <= x\"\"\"\r\n",
        "  if x < 0:\r\n",
        "    return 0 # a aleatória uniforme nunca é menor que 0\r\n",
        "  elif x < 1:\r\n",
        "    return x # por exemplo P(x <= 0.4) = 0.4\r\n",
        "  else:\r\n",
        "    return 1 # a aleatória uniforme sempre é menor do que 1"
      ],
      "execution_count": 214,
      "outputs": []
    },
    {
      "cell_type": "code",
      "metadata": {
        "colab": {
          "base_uri": "https://localhost:8080/"
        },
        "id": "rLXS4I1-lfHh",
        "outputId": "6592685d-0578-4db4-860d-4d1b2f676439"
      },
      "source": [
        "uniform_cdf(random.random())"
      ],
      "execution_count": 215,
      "outputs": [
        {
          "output_type": "execute_result",
          "data": {
            "text/plain": [
              "0.29046802524618587"
            ]
          },
          "metadata": {
            "tags": []
          },
          "execution_count": 215
        }
      ]
    },
    {
      "cell_type": "code",
      "metadata": {
        "id": "kG4cLYfBlica"
      },
      "source": [
        "def normal_pdf(x, mu=0, sigma=1):\r\n",
        "  sqrt_two_pi = math.sqrt(2 * math.pi)\r\n",
        "  return (math.exp(-(x-mu) ** 2 / 2 / sigma ** 2) / (sqrt_two_pi * sigma))"
      ],
      "execution_count": 216,
      "outputs": []
    },
    {
      "cell_type": "code",
      "metadata": {
        "colab": {
          "base_uri": "https://localhost:8080/",
          "height": 0
        },
        "id": "QXLa6ovfmybV",
        "outputId": "791e8489-b245-4543-e435-2d58c1341b28"
      },
      "source": [
        "xs = [x / 10.0 for x in range(-50, 50)]\r\n",
        "plt.plot(xs,[normal_pdf(x,sigma=1) for x in xs], '-', label='mu=0,sigma=1')\r\n",
        "plt.plot(xs,[normal_pdf(x,sigma=2) for x in xs], '--', label='mu=0,sigma=2')\r\n",
        "plt.plot(xs,[normal_pdf(x,sigma=0.5) for x in xs], ':', label='mu=0,sigma=0.5')\r\n",
        "plt.plot(xs,[normal_pdf(x,mu=-1) for x in xs], '-.', label='mu=-1,sigma=1')\r\n",
        "plt.legend()\r\n",
        "plt.title(\"Diversas Funções de Densidade de Probabilidade Normais\")\r\n",
        "plt.show()"
      ],
      "execution_count": 217,
      "outputs": [
        {
          "output_type": "display_data",
          "data": {
            "image/png": "[encoded data removed]",
            "text/plain": [
              "<Figure size 432x288 with 1 Axes>"
            ]
          },
          "metadata": {
            "tags": [],
            "needs_background": "light"
          }
        }
      ]
    },
    {
      "cell_type": "code",
      "metadata": {
        "id": "KeSB1XdsnTwC"
      },
      "source": [
        "def normal_cdf(x, mu=0, sigma=1):\r\n",
        "  return (1 + math.erf((x - mu) / math.sqrt(2) / sigma)) / 2"
      ],
      "execution_count": 218,
      "outputs": []
    },
    {
      "cell_type": "code",
      "metadata": {
        "colab": {
          "base_uri": "https://localhost:8080/",
          "height": 0
        },
        "id": "akNaLFfnordt",
        "outputId": "21c7292e-e383-465a-c713-0b5b78eae0ef"
      },
      "source": [
        "xs = [x / 10.0 for x in range(-50, 50)]\r\n",
        "plt.plot(xs,[normal_cdf(x,sigma=1) for x in xs], '-', label='mu=0,sigma=1')\r\n",
        "plt.plot(xs,[normal_cdf(x,sigma=2) for x in xs], '--', label='mu=0,sigma=2')\r\n",
        "plt.plot(xs,[normal_cdf(x,sigma=0.5) for x in xs], ':', label='mu=0,sigma=0.5')\r\n",
        "plt.plot(xs,[normal_cdf(x,mu=-1) for x in xs], '-.', label='mu=-1,sigma=1')\r\n",
        "plt.legend(loc=4)\r\n",
        "plt.title(\"Diversas Funções de Densidade de Probabilidade Cumulativa\")\r\n",
        "plt.show()"
      ],
      "execution_count": 219,
      "outputs": [
        {
          "output_type": "display_data",
          "data": {
            "image/png": "[encoded data removed]",
            "text/plain": [
              "<Figure size 432x288 with 1 Axes>"
            ]
          },
          "metadata": {
            "tags": [],
            "needs_background": "light"
          }
        }
      ]
    },
    {
      "cell_type": "code",
      "metadata": {
        "id": "iBUnNSsyvEQZ"
      },
      "source": [
        "def inverse_normal_cdf(p, mu=0, sigma=1, tolerance=0.00001):\r\n",
        "  \"\"\"encontra o inverso mais próximo usando a busca binária\"\"\"\r\n",
        "  #se não for padrão, computa o padrão e redimensiona\r\n",
        "  if mu != 0 or sigma != 1:\r\n",
        "    return mu + sigma * inverse_normal_cdf(p, tolerance=tolerance)\r\n",
        "\r\n",
        "  low_z, low_p = -10.0, 0 # normal_cdf(-10) está (muito perto de) 0\r\n",
        "  hi_z, hi_p = 10.0, 1    # normal_cdf(10) está (muito perto de) 1\r\n",
        "  while hi_z - low_z > tolerance:\r\n",
        "    mid_z = (low_z + hi_z) / 2 # considera o valor do meio e o valor da\r\n",
        "    mid_p = normal_cdf(mid_z) # função da distribuição cumulativa lá\r\n",
        "    if mid_p < p:\r\n",
        "      # o ponto do meio ainda está baixo, procura acima\r\n",
        "      low_z, low_p = mid_z, mid_p\r\n",
        "    elif mid_p > p:\r\n",
        "      # o ponto do meio ainda está alto, procura abaixo\r\n",
        "      hi_z, hi_p = mid_z, mid_p\r\n",
        "    else:\r\n",
        "      break\r\n",
        "\r\n",
        "  return mid_z"
      ],
      "execution_count": 220,
      "outputs": []
    },
    {
      "cell_type": "code",
      "metadata": {
        "colab": {
          "base_uri": "https://localhost:8080/",
          "height": 0
        },
        "id": "YcSTeO3rpfC4",
        "outputId": "c5f85578-a17a-488d-a6aa-83be8a0c8b0a"
      },
      "source": [
        "xs = [x / 10.0 for x in range(-50, 50)]\r\n",
        "plt.plot(xs,[inverse_normal_cdf(x,sigma=1) for x in xs], '-', label='mu=0,sigma=1')\r\n",
        "plt.plot(xs,[inverse_normal_cdf(x,sigma=2) for x in xs], '--', label='mu=0,sigma=2')\r\n",
        "plt.plot(xs,[inverse_normal_cdf(x,sigma=0.5) for x in xs], ':', label='mu=0,sigma=0.5')\r\n",
        "plt.plot(xs,[inverse_normal_cdf(x,mu=-1) for x in xs], '-.', label='mu=-1,sigma=1')\r\n",
        "plt.legend(loc=4)\r\n",
        "plt.title(\"Funções de Densidade de Probabilidade Cumulativa Inversa\")\r\n",
        "plt.show()"
      ],
      "execution_count": 221,
      "outputs": [
        {
          "output_type": "display_data",
          "data": {
            "image/png": "[encoded data removed]",
            "text/plain": [
              "<Figure size 432x288 with 1 Axes>"
            ]
          },
          "metadata": {
            "tags": [],
            "needs_background": "light"
          }
        }
      ]
    },
    {
      "cell_type": "code",
      "metadata": {
        "id": "184dkJJwqAll"
      },
      "source": [
        "def bernoulli_trial(p):\r\n",
        "  return 1 if random.random() < p else 0"
      ],
      "execution_count": 222,
      "outputs": []
    },
    {
      "cell_type": "code",
      "metadata": {
        "id": "XH8lHhDorrYL"
      },
      "source": [
        "def binomial(n, p):\r\n",
        "  return sum(bernoulli_trial(p) for _ in range(n))"
      ],
      "execution_count": 223,
      "outputs": []
    },
    {
      "cell_type": "code",
      "metadata": {
        "id": "FqAE1BfkruaR"
      },
      "source": [
        "def make_hist(p, n, num_points):\r\n",
        "  data = [binomial(n, p) for _ in range(num_points)]\r\n",
        "\r\n",
        "  # usa um gráfico de barras para exibir as amostras binomiais atuais\r\n",
        "  histogram = Counter(data)\r\n",
        "  plt.bar([x - 0.4 for x in histogram.keys()],\r\n",
        "          [v / num_points for v in histogram.values()],\r\n",
        "          0.8,\r\n",
        "          color='0.75')\r\n",
        "  \r\n",
        "  mu = p * n \r\n",
        "  sigma = math.sqrt(n * p * (1 - p))\r\n",
        "\r\n",
        "  # usa um gráfico de linhas para exibir uma aproximação da normal\r\n",
        "  xs = range(min(data), max(data) + 1)\r\n",
        "  ys = [normal_cdf(i + 0.5, mu, sigma) - normal_cdf(i - 0.5, mu, sigma)\r\n",
        "        for i in xs]\r\n",
        "  plt.plot(xs, ys)\r\n",
        "  plt.title(\"Distribuição Binomial vs. Aproximação Normal\")\r\n",
        "  plt.show()"
      ],
      "execution_count": 224,
      "outputs": []
    },
    {
      "cell_type": "code",
      "metadata": {
        "colab": {
          "base_uri": "https://localhost:8080/",
          "height": 0
        },
        "id": "WF34WVLMtgYz",
        "outputId": "37f1aad5-18af-4f36-c6ed-bf9a307c7958"
      },
      "source": [
        "make_hist(0.75, 100, 10000)"
      ],
      "execution_count": 225,
      "outputs": [
        {
          "output_type": "display_data",
          "data": {
            "image/png": "[encoded data removed]",
            "text/plain": [
              "<Figure size 432x288 with 1 Axes>"
            ]
          },
          "metadata": {
            "tags": [],
            "needs_background": "light"
          }
        }
      ]
    },
    {
      "cell_type": "code",
      "metadata": {
        "id": "svgpbm28uuqp"
      },
      "source": [
        ""
      ],
      "execution_count": 225,
      "outputs": []
    },
    {
      "cell_type": "markdown",
      "metadata": {
        "id": "8Mk2eJtyvax-"
      },
      "source": [
        "#Capítulo 7 - Hipótese e Interferência\r\n",
        "É característica de uma pessoa realmente inteligente ser movida pela estatística. - George Bernard Shaw\r\n",
        "\r\n",
        "O que faremos com todas essas teorias de estatísticas e probabilidade? A parte da ciência de data science frequentemente envolve formar e testar hipóteses sobre nossos dados e os processos que os geram."
      ]
    },
    {
      "cell_type": "code",
      "metadata": {
        "id": "JWTB3yuLv27u"
      },
      "source": [
        "def normal_approximation_to_binomial(n, p):\r\n",
        "  \"\"\"encontra mi e sigma correspondendo ao Binomial(n, p)\"\"\"\r\n",
        "  mu = p * n\r\n",
        "  sigma = math.sqrt(p * (1 - p) * n)\r\n",
        "  return mu, sigma"
      ],
      "execution_count": 226,
      "outputs": []
    },
    {
      "cell_type": "code",
      "metadata": {
        "id": "WBQq1Dd4xc39"
      },
      "source": [
        "# o cdf normal é a probabilidade que a variável esteja abaixo de um limite\r\n",
        "normal_probability_below = normal_cdf\r\n"
      ],
      "execution_count": 227,
      "outputs": []
    },
    {
      "cell_type": "code",
      "metadata": {
        "id": "H_RkqV-ubbXs"
      },
      "source": [
        "# está acima do limite se não estiver abaixo\r\n",
        "def normal_probability_above(lo, mu=0, sigma=1):\r\n",
        "  return 1 - normal_cdf(lo, mu, sigma)"
      ],
      "execution_count": 228,
      "outputs": []
    },
    {
      "cell_type": "code",
      "metadata": {
        "id": "hVnHoy7abmUe"
      },
      "source": [
        "# está entre se for menos do que hi mas não menor que lo\r\n",
        "def normal_probability_between(lo, hi, mu=0, sigma=1):\r\n",
        "  return normal_cdf(hi, mu, sigma) - normal_cdf(lo, mu, sigma)"
      ],
      "execution_count": 230,
      "outputs": []
    },
    {
      "cell_type": "code",
      "metadata": {
        "id": "E17npAuG64cd"
      },
      "source": [
        "# está fora se não estiver entre\r\n",
        "def normal_probability_outside(lo, hi, mu=0, sigma=1):\r\n",
        "  return 1 - normal_probability_between(lo, hi, mu, sigma)"
      ],
      "execution_count": 231,
      "outputs": []
    },
    {
      "cell_type": "code",
      "metadata": {
        "id": "FnVImZi07Jow"
      },
      "source": [
        "def normal_upper_bound(probability, mu=0, sigma=1):\r\n",
        "  \"\"\"retorna z para que p(Z <= z) = probability\"\"\"\r\n",
        "  return inverse_normal_cdf(probability, mu, sigma)"
      ],
      "execution_count": 237,
      "outputs": []
    },
    {
      "cell_type": "code",
      "metadata": {
        "id": "os6jRwXB9MYh"
      },
      "source": [
        "def normal_lower_bound(probability, mu=0, sigma=1):\r\n",
        "  \"\"\"retorna z para que p(Z >= z) = probability\"\"\"\r\n",
        "  return inverse_normal_cdf(1 - probability, mu, sigma)"
      ],
      "execution_count": 238,
      "outputs": []
    },
    {
      "cell_type": "code",
      "metadata": {
        "id": "HFgltiwz9iJh"
      },
      "source": [
        "def normal_two_sided_bounds(probability, mu=0, sigma=1):\r\n",
        "  \"\"\"retorna os limites simétricos (sobre a média)\r\n",
        "  que contém a probabilidade específica\"\"\"\r\n",
        "  tail_probability = (1 - probability) / 2\r\n",
        "\r\n",
        "  # limite superior deveria ter tail_probability acima\r\n",
        "  upper_bound = normal_lower_bound(tail_probability, mu, sigma)\r\n",
        "\r\n",
        "  # limite inferior deveria ter tail_probability abaixo\r\n",
        "  lower_bound = normal_upper_bound(tail_probability, mu, sigma)\r\n",
        "\r\n",
        "  return lower_bound, upper_bound"
      ],
      "execution_count": 241,
      "outputs": []
    },
    {
      "cell_type": "code",
      "metadata": {
        "id": "JO_HWhm39kd7"
      },
      "source": [
        "mu_0, sigma_0 = normal_approximation_to_binomial(1000, 0.5)"
      ],
      "execution_count": 250,
      "outputs": []
    },
    {
      "cell_type": "code",
      "metadata": {
        "colab": {
          "base_uri": "https://localhost:8080/"
        },
        "id": "i8MdfXYn-sHa",
        "outputId": "430d06dd-fdc2-4038-b4d7-8b16c63ff70b"
      },
      "source": [
        "normal_two_sided_bounds(0.95, mu_0, sigma_0)"
      ],
      "execution_count": 251,
      "outputs": [
        {
          "output_type": "execute_result",
          "data": {
            "text/plain": [
              "(469.01026640487555, 530.9897335951244)"
            ]
          },
          "metadata": {
            "tags": []
          },
          "execution_count": 251
        }
      ]
    },
    {
      "cell_type": "code",
      "metadata": {
        "id": "YNFiqNkK_M2D"
      },
      "source": [
        ""
      ],
      "execution_count": null,
      "outputs": []
    }
  ]
}